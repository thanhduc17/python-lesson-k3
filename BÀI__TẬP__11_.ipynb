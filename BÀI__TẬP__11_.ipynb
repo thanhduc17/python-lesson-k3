{
  "nbformat": 4,
  "nbformat_minor": 0,
  "metadata": {
    "colab": {
      "provenance": [],
      "authorship_tag": "ABX9TyPc/E5lplnqI/IseHXkTULs",
      "include_colab_link": true
    },
    "kernelspec": {
      "name": "python3",
      "display_name": "Python 3"
    },
    "language_info": {
      "name": "python"
    }
  },
  "cells": [
    {
      "cell_type": "markdown",
      "metadata": {
        "id": "view-in-github",
        "colab_type": "text"
      },
      "source": [
        "<a href=\"https://colab.research.google.com/github/thanhduc17/python-lesson-k3/blob/main/B%C3%80I__T%E1%BA%ACP__11_.ipynb\" target=\"_parent\"><img src=\"https://colab.research.google.com/assets/colab-badge.svg\" alt=\"Open In Colab\"/></a>"
      ]
    },
    {
      "cell_type": "markdown",
      "source": [
        "# **Mẫu**"
      ],
      "metadata": {
        "id": "jK247y8EPJn3"
      }
    },
    {
      "cell_type": "code",
      "execution_count": 7,
      "metadata": {
        "id": "rJUWrgS8vND8",
        "colab": {
          "base_uri": "https://localhost:8080/"
        },
        "outputId": "db4005cb-929d-4b28-c2b3-094efd052755"
      },
      "outputs": [
        {
          "output_type": "stream",
          "name": "stdout",
          "text": [
            "Nghiệm:  [3]\n"
          ]
        }
      ],
      "source": [
        "from sympy import symbols, Eq, solve\n",
        "x = symbols('x')\n",
        "eq = Eq(2*x - 6, 0)\n",
        "\n",
        "answer = solve(eq, x)\n",
        "print('Nghiệm: ', answer)"
      ]
    },
    {
      "cell_type": "code",
      "source": [
        "from sympy import symbols, Eq, solve\n",
        "x, y = symbols('x y')\n",
        "\n",
        "#Mô tả hệ phương trình\n",
        "eq1 = Eq(2*x + y - 1, 0)\n",
        "eq2 = Eq(x + y - 5, 0)\n",
        "\n",
        "answer = solve((eq1, eq2), (x,y))\n",
        "print(answer)"
      ],
      "metadata": {
        "colab": {
          "base_uri": "https://localhost:8080/"
        },
        "id": "3o-h5wMpyEha",
        "outputId": "0dfad2bb-c8ae-44cb-dce9-04f5343fb1dc"
      },
      "execution_count": 8,
      "outputs": [
        {
          "output_type": "stream",
          "name": "stdout",
          "text": [
            "{x: -4, y: 9}\n"
          ]
        }
      ]
    },
    {
      "cell_type": "code",
      "source": [
        "from sympy import *\n",
        "x = symbols('x')\n",
        "\n",
        "f = sin(x)/x\n",
        "\n",
        "answer = limit(f, x, 0)\n",
        "print('Kết quả giới hạn: ', answer)"
      ],
      "metadata": {
        "colab": {
          "base_uri": "https://localhost:8080/"
        },
        "id": "R7kATfAUz4LM",
        "outputId": "84857a4a-d6f5-484c-8a50-1869725e9f48"
      },
      "execution_count": 9,
      "outputs": [
        {
          "output_type": "stream",
          "name": "stdout",
          "text": [
            "Kết quả giới hạn:  1\n"
          ]
        }
      ]
    },
    {
      "cell_type": "code",
      "source": [
        "from sympy import *\n",
        "\n",
        "x = symbols('x')\n",
        "\n",
        "#Xây dựng hàm số\n",
        "f = sin(x)\n",
        "\n",
        "#Tính đạo hàm df/dx\n",
        "answer = diff(f, x)\n",
        "print(answer)"
      ],
      "metadata": {
        "colab": {
          "base_uri": "https://localhost:8080/"
        },
        "id": "f5nXwf2N0s4f",
        "outputId": "0531cb5a-e33a-4d3c-e599-ee2d3c983072"
      },
      "execution_count": 10,
      "outputs": [
        {
          "output_type": "stream",
          "name": "stdout",
          "text": [
            "cos(x)\n"
          ]
        }
      ]
    },
    {
      "cell_type": "code",
      "source": [
        "\n",
        "from sympy import *\n",
        "\n",
        "x = symbols('x')\n",
        "\n",
        "#Xây dựng hàm\n",
        "f = cos(x)\n",
        "\n",
        "#Tính tích phân không giới hạn\n",
        "answer = integrate(f, x)\n",
        "print(answer)\n"
      ],
      "metadata": {
        "colab": {
          "base_uri": "https://localhost:8080/"
        },
        "id": "HRQeHPVTQIPY",
        "outputId": "e5e50f08-96db-4baa-c084-6230297c7a17"
      },
      "execution_count": 11,
      "outputs": [
        {
          "output_type": "stream",
          "name": "stdout",
          "text": [
            "sin(x)\n"
          ]
        }
      ]
    },
    {
      "cell_type": "code",
      "source": [
        "from sympy import *\n",
        "\n",
        "x = symbols('x')\n",
        "\n",
        "#Xây dựng hàm\n",
        "f = exp(-x)\n",
        "\n",
        "#Tính tích phân có giới hạn\n",
        "answer = integrate(f, (x,0, oo))\n",
        "print(answer)\n"
      ],
      "metadata": {
        "colab": {
          "base_uri": "https://localhost:8080/"
        },
        "id": "RIVE1Cg7QnMo",
        "outputId": "65388ae3-1964-4f7b-bf1a-2a653ed7a2d3"
      },
      "execution_count": 12,
      "outputs": [
        {
          "output_type": "stream",
          "name": "stdout",
          "text": [
            "1\n"
          ]
        }
      ]
    },
    {
      "cell_type": "code",
      "source": [
        "from sympy import *\n",
        "\n",
        "x, y = symbols('x y')\n",
        "\n",
        "#Xây dựng hàm\n",
        "f = exp(-x**2-y**2)\n",
        "\n",
        "#Tính tích phân\n",
        "answer = integrate(f, (x, -oo, +oo),\n",
        "(y, -oo, +oo))"
      ],
      "metadata": {
        "id": "txVjepeKQqmv"
      },
      "execution_count": 13,
      "outputs": []
    },
    {
      "cell_type": "markdown",
      "source": [
        "# **BÀI 1:**"
      ],
      "metadata": {
        "id": "z0NA02oXRApY"
      }
    },
    {
      "cell_type": "code",
      "source": [
        "\n",
        "eq = Eq((-2)*x + 5, 0)\n",
        "eq1 = Eq(5*x - 9, 0)\n",
        "\n",
        "answer = solve(eq, x)\n",
        "print('Nghiệm: ', answer)\n",
        "answer = solve(eq1, x)\n",
        "print('Nghiệm: ', answer)"
      ],
      "metadata": {
        "colab": {
          "base_uri": "https://localhost:8080/"
        },
        "id": "qH-5Qn6Vxa_U",
        "outputId": "8c25ba8f-309a-4220-b4cf-9e68da11150e"
      },
      "execution_count": null,
      "outputs": [
        {
          "output_type": "stream",
          "name": "stdout",
          "text": [
            "Nghiệm:  [5/2]\n",
            "Nghiệm:  [9/5]\n"
          ]
        }
      ]
    },
    {
      "cell_type": "markdown",
      "source": [
        "# **BÀI 2:**"
      ],
      "metadata": {
        "id": "l_5Wbv1mRRdX"
      }
    },
    {
      "cell_type": "code",
      "source": [
        "eq1 = Eq(x - y - 3, 0)\n",
        "eq2 = Eq(3*x - 4*y - 4, 0)\n",
        "\n",
        "answer = solve((eq1, eq2), (x,y))\n",
        "print(\"nghiệm của hệ pt là:\",answer)"
      ],
      "metadata": {
        "colab": {
          "base_uri": "https://localhost:8080/"
        },
        "id": "LODzAG4MyQ1z",
        "outputId": "097071a9-0410-4d03-c1b5-985a73fcf905"
      },
      "execution_count": 27,
      "outputs": [
        {
          "output_type": "stream",
          "name": "stdout",
          "text": [
            "nghiệm của hệ pt là: {x: 8, y: 5}\n"
          ]
        }
      ]
    },
    {
      "cell_type": "code",
      "source": [
        "x, y,z = symbols('x y z')\n",
        "eq1 = Eq(x - y + 2*z - 4, 0)\n",
        "eq2 = Eq(2*x + y - z + 1, 0)\n",
        "eq3 = Eq(x + y + z - 5,0)\n",
        "answer = solve((eq1, eq2, eq3), (x,y,z))\n",
        "print(\"nghiệm của hệ pt là:\",answer)"
      ],
      "metadata": {
        "colab": {
          "base_uri": "https://localhost:8080/"
        },
        "id": "4jx4CbYsyuCn",
        "outputId": "2e905414-6e03-4dd9-fd1d-7963613612f0"
      },
      "execution_count": 28,
      "outputs": [
        {
          "output_type": "stream",
          "name": "stdout",
          "text": [
            "nghiệm của hệ pt là: {x: 0, y: 2, z: 3}\n"
          ]
        }
      ]
    },
    {
      "cell_type": "markdown",
      "source": [
        "BÀI 3:"
      ],
      "metadata": {
        "id": "UVHhy8UyRcKf"
      }
    },
    {
      "cell_type": "code",
      "source": [
        "f = (x-8)/(x-2)\n",
        "\n",
        "f1 = (1-cos(x))/sin(x)\n",
        "\n",
        "answer = limit(f, x, 2)\n",
        "answer1 = limit(f1, x, 0)\n",
        "print('Kết quả giới hạn của: ',f,\"là\\n\", answer)\n",
        "print('Kết quả giới hạn của: ',f1,\"là\\n\" ,answer1)"
      ],
      "metadata": {
        "colab": {
          "base_uri": "https://localhost:8080/"
        },
        "id": "IYDLxX8I0KCB",
        "outputId": "0d41034d-3211-43d4-e408-93e456a01cc4"
      },
      "execution_count": 26,
      "outputs": [
        {
          "output_type": "stream",
          "name": "stdout",
          "text": [
            "Kết quả giới hạn của:  (x - 8)/(x - 2) là\n",
            " -oo\n",
            "Kết quả giới hạn của:  (1 - cos(x))/sin(x) là\n",
            " 0\n"
          ]
        }
      ]
    },
    {
      "cell_type": "markdown",
      "source": [
        "BÀI 4:"
      ],
      "metadata": {
        "id": "YqyRuys1Rl_I"
      }
    },
    {
      "cell_type": "code",
      "source": [
        "f= 3*x**2 + 6*x - 8\n",
        "\n",
        "f1 = tan(x)\n",
        "\n",
        "answer = diff(f, x)\n",
        "print(\"ĐẠO HÀM CỦA \",f,\"LÀ\\n\",answer)\n",
        "\n",
        "answer12 = diff(f1, x)\n",
        "print(\"ĐẠO HÀM CỦA \",f1,\"LÀ\\n\",answer12)"
      ],
      "metadata": {
        "colab": {
          "base_uri": "https://localhost:8080/"
        },
        "id": "rSpo2CZS0_Ht",
        "outputId": "004c8247-e666-4044-cc52-15bf50a29ddb"
      },
      "execution_count": 19,
      "outputs": [
        {
          "output_type": "stream",
          "name": "stdout",
          "text": [
            "ĐẠO HÀM CỦA  3*x**2 + 6*x - 8 LÀ\n",
            " 6*x + 6\n",
            "ĐẠO HÀM CỦA  tan(x) LÀ\n",
            " tan(x)**2 + 1\n"
          ]
        }
      ]
    },
    {
      "cell_type": "markdown",
      "source": [
        "BÀI 5:"
      ],
      "metadata": {
        "id": "ZHHmxp9DRp1g"
      }
    },
    {
      "cell_type": "code",
      "source": [
        "f = sin(2*x)*sin(7*x)\n",
        "\n",
        "answer = integrate(f, (x,pi/2, (-pi/2)))\n",
        "\n",
        "print(\"tích phân CỦA \",f,\"LÀ\\n\",answer)"
      ],
      "metadata": {
        "colab": {
          "base_uri": "https://localhost:8080/"
        },
        "id": "UvqGUMld2Q_6",
        "outputId": "3a34b8ac-8f8e-4feb-a365-125a9a666392"
      },
      "execution_count": 22,
      "outputs": [
        {
          "output_type": "stream",
          "name": "stdout",
          "text": [
            "tích phân CỦA  sin(2*x)*sin(7*x) LÀ\n",
            " -4/45\n"
          ]
        }
      ]
    },
    {
      "cell_type": "code",
      "source": [
        "f = 2*sin(x)-3*y**3+5\n",
        "\n",
        "answer = integrate(f,x,y)\n",
        "print(\"tích phân CỦA \",f,\"LÀ\\n\",answer)"
      ],
      "metadata": {
        "colab": {
          "base_uri": "https://localhost:8080/"
        },
        "id": "1SLbK9Zw3UzW",
        "outputId": "1ff94794-e7c7-42fe-f7d5-ac42d38ee92b"
      },
      "execution_count": 24,
      "outputs": [
        {
          "output_type": "stream",
          "name": "stdout",
          "text": [
            "tích phân CỦA  -3*y**3 + 2*sin(x) + 5 LÀ\n",
            " -3*x*y**4/4 + y*(5*x - 2*cos(x))\n"
          ]
        }
      ]
    },
    {
      "cell_type": "code",
      "source": [
        "f = x**2+y**2\n",
        "\n",
        "answer = integrate(f, (x, 2, -2),(y, 4, 0))\n",
        "print(\"tích phân CỦA \",f,\"LÀ\\n\",answer)"
      ],
      "metadata": {
        "colab": {
          "base_uri": "https://localhost:8080/"
        },
        "id": "lueiVZRf4FER",
        "outputId": "def398d4-7fda-451c-8cc2-6b79268bb4fc"
      },
      "execution_count": 23,
      "outputs": [
        {
          "output_type": "stream",
          "name": "stdout",
          "text": [
            "tích phân CỦA  x**2 + y**2 LÀ\n",
            " 320/3\n"
          ]
        }
      ]
    }
  ]
}