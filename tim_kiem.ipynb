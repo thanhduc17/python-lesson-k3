{
  "nbformat": 4,
  "nbformat_minor": 0,
  "metadata": {
    "colab": {
      "provenance": [],
      "authorship_tag": "ABX9TyPwW+ETXU+w2D8gaICAzHIc",
      "include_colab_link": true
    },
    "kernelspec": {
      "name": "python3",
      "display_name": "Python 3"
    },
    "language_info": {
      "name": "python"
    }
  },
  "cells": [
    {
      "cell_type": "markdown",
      "metadata": {
        "id": "view-in-github",
        "colab_type": "text"
      },
      "source": [
        "<a href=\"https://colab.research.google.com/github/thanhduc17/python-lesson-k3/blob/main/tim_kiem.ipynb\" target=\"_parent\"><img src=\"https://colab.research.google.com/assets/colab-badge.svg\" alt=\"Open In Colab\"/></a>"
      ]
    },
    {
      "cell_type": "code",
      "execution_count": null,
      "metadata": {
        "id": "qkNEAM0zjnh7"
      },
      "outputs": [],
      "source": [
        "import random\n",
        "random.seed(123)"
      ]
    },
    {
      "cell_type": "code",
      "source": [
        "def nhap_so_nguyen_n():\n",
        "  n = int(input(\"mời nhập số nguyên n =\"))\n",
        "  return n"
      ],
      "metadata": {
        "id": "6dlJM73W6Bb4"
      },
      "execution_count": null,
      "outputs": []
    },
    {
      "cell_type": "code",
      "source": [
        "def sinh_vector_so_nguyen(n):\n",
        "  x = [random.randint(-5, 5) for i in range(n)]\n",
        "  return x"
      ],
      "metadata": {
        "id": "hrqTq2n1n3Zz"
      },
      "execution_count": null,
      "outputs": []
    },
    {
      "cell_type": "code",
      "source": [
        "def tim_vi_tri_dau_tien1(v, n):\n",
        "  for i in range(len(v)):\n",
        "    if v[i] == n:\n",
        "     return i\n",
        "  return None\n",
        "  \n"
      ],
      "metadata": {
        "id": "QsBOv5YcqDKM"
      },
      "execution_count": null,
      "outputs": []
    },
    {
      "cell_type": "code",
      "source": [
        "def tim_vi_tri_cuoi_cung(v, n):\n",
        "  vitri = None\n",
        "  for i in range(len(v)):\n",
        "    if v[i] == n:\n",
        "     vitri = i\n",
        "  return vitri"
      ],
      "metadata": {
        "id": "yLi0xT-at4DC"
      },
      "execution_count": null,
      "outputs": []
    },
    {
      "cell_type": "code",
      "source": [
        "def dem_phan_tu(v, n):\n",
        "  count = 0\n",
        "  for i in range(len(v)):\n",
        "    if v[i] == n:\n",
        "      count = count + 1\n",
        "  return count\n"
      ],
      "metadata": {
        "id": "FTHBDmSSuHjZ"
      },
      "execution_count": null,
      "outputs": []
    },
    {
      "cell_type": "code",
      "source": [
        "def liet_ke_phan_tu(v, n):\n",
        "  vitri = []\n",
        "  for i in range(len(v)):\n",
        "    if v[i] == n:\n",
        "      vitri.append(i)\n",
        "  return vitri"
      ],
      "metadata": {
        "id": "pIwbTaQ70V-F"
      },
      "execution_count": null,
      "outputs": []
    },
    {
      "cell_type": "code",
      "source": [
        "def main():\n",
        "  n=nhap_so_nguyen_n()\n",
        "  x = sinh_vector_so_nguyen(n)\n",
        "  a=tim_vi_tri_dau_tien1(x,n)\n",
        "  print(x)\n",
        "  if a == None:\n",
        "    print('Khong tim thay')\n",
        "  else:\n",
        "    print('Vi tri: ', a)\n",
        "  b = tim_vi_tri_cuoi_cung(x,n)\n",
        "  if b == None:\n",
        "    print('Khong tim thay')\n",
        "  else:\n",
        "    print('Vi tri cuối cùng : ',b  )\n",
        "  c = dem_phan_tu(x,n)\n",
        "  if c == 0:\n",
        "    print('Khong co phan tu nay trong vector')\n",
        "  else:\n",
        "    print('So lan xuat hien cua phan tu nay trong vector la ', c)\n",
        "  d = liet_ke_phan_tu(x,n)\n",
        "  if len(d) == 0:\n",
        "    print('Khong co phan tu nay trong vector')\n",
        "  else:\n",
        "    print('Cac vi tri xuat hien la: ',d)    \n",
        "if __name__==\"__main__\":\n",
        "  main()"
      ],
      "metadata": {
        "colab": {
          "base_uri": "https://localhost:8080/"
        },
        "id": "oq61eNdN1Qg9",
        "outputId": "e44d8348-dad8-41f5-fafa-c7638032a115"
      },
      "execution_count": null,
      "outputs": [
        {
          "output_type": "stream",
          "name": "stdout",
          "text": [
            "mời nhập số nguyên n =5\n",
            "[0, -4, -1, 3, -2]\n",
            "Khong tim thay\n",
            "Khong tim thay\n",
            "Khong co phan tu nay trong vector\n",
            "Khong co phan tu nay trong vector\n"
          ]
        }
      ]
    }
  ]
}