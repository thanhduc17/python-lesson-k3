{
  "nbformat": 4,
  "nbformat_minor": 0,
  "metadata": {
    "colab": {
      "provenance": [],
      "authorship_tag": "ABX9TyOpOzb2b2zJfpjwuvmhQaSz",
      "include_colab_link": true
    },
    "kernelspec": {
      "name": "python3",
      "display_name": "Python 3"
    },
    "language_info": {
      "name": "python"
    }
  },
  "cells": [
    {
      "cell_type": "markdown",
      "metadata": {
        "id": "view-in-github",
        "colab_type": "text"
      },
      "source": [
        "<a href=\"https://colab.research.google.com/github/thanhduc17/python-lesson-k3/blob/main/lt_h%C3%A0m.ipynb\" target=\"_parent\"><img src=\"https://colab.research.google.com/assets/colab-badge.svg\" alt=\"Open In Colab\"/></a>"
      ]
    },
    {
      "cell_type": "code",
      "execution_count": 31,
      "metadata": {
        "id": "XGA5ic6abEtJ"
      },
      "outputs": [],
      "source": [
        "def welcome():\n",
        "  print('welcome to Huế city')\n",
        "def welcome2(mesage):\n",
        "  print(mesage)\n",
        "def nhap_so_n():\n",
        "  n=abs(int(input(\"n=\")))\n",
        "  return n \n",
        "def tinh_tong(n):\n",
        "  s=0\n",
        "  for i in range(1, n+1):\n",
        "    s += i\n",
        "  return s\n",
        "def main():\n",
        "  welcome()\n",
        "  welcome2('welcome to ĐÀ NẴNG')\n",
        "  n = nhap_so_n()\n",
        "  s = tinh_tong(n)\n",
        "  print(\"s =\",s)"
      ]
    },
    {
      "cell_type": "code",
      "source": [
        "if __name__ == \"__main__\":\n",
        "  main()"
      ],
      "metadata": {
        "colab": {
          "base_uri": "https://localhost:8080/"
        },
        "id": "OUvugN7MeTAp",
        "outputId": "31344524-8558-468d-e45a-d4a18680041c"
      },
      "execution_count": 32,
      "outputs": [
        {
          "output_type": "stream",
          "name": "stdout",
          "text": [
            "welcome to Huế city\n",
            "welcome to ĐÀ NẴNG\n",
            "n=120\n",
            "s = 7260\n"
          ]
        }
      ]
    }
  ]
}