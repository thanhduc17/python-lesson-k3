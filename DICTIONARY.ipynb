{
  "nbformat": 4,
  "nbformat_minor": 0,
  "metadata": {
    "colab": {
      "provenance": [],
      "authorship_tag": "ABX9TyOEA+c866h1bZl1VgYrR5HM",
      "include_colab_link": true
    },
    "kernelspec": {
      "name": "python3",
      "display_name": "Python 3"
    },
    "language_info": {
      "name": "python"
    }
  },
  "cells": [
    {
      "cell_type": "markdown",
      "metadata": {
        "id": "view-in-github",
        "colab_type": "text"
      },
      "source": [
        "<a href=\"https://colab.research.google.com/github/thanhduc17/python-lesson-k3/blob/main/DICTIONARY.ipynb\" target=\"_parent\"><img src=\"https://colab.research.google.com/assets/colab-badge.svg\" alt=\"Open In Colab\"/></a>"
      ]
    },
    {
      "cell_type": "markdown",
      "source": [
        "Câu 1: Hãy tạo ra một biến d kiểu dictionary có giá trị như sau:\n",
        "\n",
        "d = {\n",
        "\"producer\": \"Dell\",\n",
        "\"model\": \"Inspiron\",\n",
        "\"year\": 2017\n",
        "}\n",
        "\n",
        "Hãy:\n",
        "\n",
        "-In ra màn hình phần tử của d có giá trị key là ‘producer’\n",
        "\n",
        "-In toàn bộ d ra màn hình."
      ],
      "metadata": {
        "id": "x-MUYvHSOTlH"
      }
    },
    {
      "cell_type": "code",
      "execution_count": null,
      "metadata": {
        "colab": {
          "base_uri": "https://localhost:8080/"
        },
        "id": "9InZFMxfNlF3",
        "outputId": "9db4a45a-8ba8-4d7d-84d0-931313b6d8ee"
      },
      "outputs": [
        {
          "output_type": "stream",
          "name": "stdout",
          "text": [
            "phần tử của d có giá trị key là producer là: Dell\n",
            "d = {'producer': 'Dell', 'model': 'Inspiron', 'year': 2017}\n"
          ]
        }
      ],
      "source": [
        "d = { \"producer\": \"Dell\", \"model\": \"Inspiron\", \"year\": 2017 }\n",
        "print(\"phần tử của d có giá trị key là producer là:\",d.get(\"producer\"))\n",
        "print(\"d =\",d)"
      ]
    },
    {
      "cell_type": "markdown",
      "source": [
        "Câu 2: Hãy tạo ra một biến d kiểu dictionary có giá trị như sau:\n",
        "\n",
        "d = {\n",
        "\"producer\": \"Dell\",\n",
        "\"model\": “Inspiron”,\n",
        "\"year\": 2017,\n",
        "\"colors\": [\"red\", \"white\", \"blue\"]\n",
        "}\n",
        "\n",
        "Hãy:\n",
        "\n",
        "-In ra màn hình phần tử của d có giá trị key là ‘colors’;\n",
        "\n",
        "-Thay đổi giá trị của phàn tử có key là ‘producer’ thành ‘Google Inc.’;\n",
        "\n",
        "-In toàn bộ d ra màn hình."
      ],
      "metadata": {
        "id": "QznOYgQjQcHp"
      }
    },
    {
      "cell_type": "code",
      "source": [
        "d = { \"producer\": \"Dell\", \"model\": \"Inspiron\", \"year\": 2017, \"colors\": [\"red\", \"white\", \"blue\"] }\n",
        "print(\"phần tử của d có giá trị key là colors là:\",d.get(\"colors\"))\n",
        "d[\"producer\"] = \"Google Inc\"\n",
        "print(d.get(\"producer\"))\n",
        "print(d)"
      ],
      "metadata": {
        "colab": {
          "base_uri": "https://localhost:8080/"
        },
        "id": "JUcAPn1nQch5",
        "outputId": "9d8865bc-fe89-4f14-e451-d06f2e9633e2"
      },
      "execution_count": null,
      "outputs": [
        {
          "output_type": "stream",
          "name": "stdout",
          "text": [
            "phần tử của d có giá trị key là colors là: ['red', 'white', 'blue']\n",
            "Google Inc\n",
            "{'producer': 'Google Inc', 'model': 'Inspiron', 'year': 2017, 'colors': ['red', 'white', 'blue']}\n"
          ]
        }
      ]
    },
    {
      "cell_type": "markdown",
      "source": [
        "Câu 3: Cấu trúc dữ liệu dictionary được ứng dụng nhiều trong lưu trữ và trao đổi dữ liệu trong\n",
        "môi trường mạng. Để thực hiện điều này, định dạng dữ liệu JSON có cấu trúc tương tự như\n",
        "dictionary được sử dụng. Điểm khác biệt duy nhất là JSON ở dạng text/chuỗi nghĩa là được bọc\n",
        "trong cụm dấu “ ”.\n",
        "\n",
        "- Chuyển biến d kiểu dictionary ở Câu 2 thành định dạng JSON và in kết quả ra màn hình"
      ],
      "metadata": {
        "id": "Yj0nTffjRtEw"
      }
    },
    {
      "cell_type": "code",
      "source": [
        "import json\n",
        "j = '{ \"producer\": \"Dell\", \"model\": \"Inspiron\", \"year\": 2017, \"colors\": [\"red\", \"white\", \"blue\"] }'\n",
        "i = json.loads(j)\n",
        "print(type(i))\n",
        "j = { \"producer\": \"Dell\", \"model\": \"Inspiron\", \"year\": 2017, \"colors\": [\"red\", \"white\", \"blue\"] }\n",
        "y = json.dumps(j)\n",
        "print(y)"
      ],
      "metadata": {
        "colab": {
          "base_uri": "https://localhost:8080/"
        },
        "id": "NBfRHy8PRsy6",
        "outputId": "7cb4e01a-a29e-4ce3-889a-513629ceb3d6"
      },
      "execution_count": null,
      "outputs": [
        {
          "output_type": "stream",
          "name": "stdout",
          "text": [
            "<class 'dict'>\n",
            "{\"producer\": \"Dell\", \"model\": \"Inspiron\", \"year\": 2017, \"colors\": [\"red\", \"white\", \"blue\"]}\n"
          ]
        }
      ]
    },
    {
      "cell_type": "markdown",
      "source": [
        "Câu 4 – bài tập mở rộng: sử dụng tài liệu tham khảo để lập trình đọc dữ liệu định dạng JSON từ mạng Internet và:\n",
        "- In kết quả ra màn hình;\n",
        "- Chuyển đổi dịnh dạng JSON đọc được thành cấu trúc dictionary và in kết quả ra màn hình."
      ],
      "metadata": {
        "id": "rcW5Gk-yWIOB"
      }
    },
    {
      "cell_type": "code",
      "source": [
        "from urllib.request import urlopen\n",
        "import json\n",
        " \n",
        "url = \"https://api.github.com\"\n",
        "  \n",
        "response = urlopen(url)\n",
        "\n",
        "data_json = json.loads(response.read())\n",
        "  \n",
        "print(data_json)\n",
        "jOject = json.loads(data_json)\n",
        "print(jOject)"
      ],
      "metadata": {
        "colab": {
          "base_uri": "https://localhost:8080/",
          "height": 376
        },
        "id": "9J3SPIwmV9zo",
        "outputId": "00554851-642c-483d-87f3-8e7d1ae84411"
      },
      "execution_count": null,
      "outputs": [
        {
          "output_type": "stream",
          "name": "stdout",
          "text": [
            "{'current_user_url': 'https://api.github.com/user', 'current_user_authorizations_html_url': 'https://github.com/settings/connections/applications{/client_id}', 'authorizations_url': 'https://api.github.com/authorizations', 'code_search_url': 'https://api.github.com/search/code?q={query}{&page,per_page,sort,order}', 'commit_search_url': 'https://api.github.com/search/commits?q={query}{&page,per_page,sort,order}', 'emails_url': 'https://api.github.com/user/emails', 'emojis_url': 'https://api.github.com/emojis', 'events_url': 'https://api.github.com/events', 'feeds_url': 'https://api.github.com/feeds', 'followers_url': 'https://api.github.com/user/followers', 'following_url': 'https://api.github.com/user/following{/target}', 'gists_url': 'https://api.github.com/gists{/gist_id}', 'hub_url': 'https://api.github.com/hub', 'issue_search_url': 'https://api.github.com/search/issues?q={query}{&page,per_page,sort,order}', 'issues_url': 'https://api.github.com/issues', 'keys_url': 'https://api.github.com/user/keys', 'label_search_url': 'https://api.github.com/search/labels?q={query}&repository_id={repository_id}{&page,per_page}', 'notifications_url': 'https://api.github.com/notifications', 'organization_url': 'https://api.github.com/orgs/{org}', 'organization_repositories_url': 'https://api.github.com/orgs/{org}/repos{?type,page,per_page,sort}', 'organization_teams_url': 'https://api.github.com/orgs/{org}/teams', 'public_gists_url': 'https://api.github.com/gists/public', 'rate_limit_url': 'https://api.github.com/rate_limit', 'repository_url': 'https://api.github.com/repos/{owner}/{repo}', 'repository_search_url': 'https://api.github.com/search/repositories?q={query}{&page,per_page,sort,order}', 'current_user_repositories_url': 'https://api.github.com/user/repos{?type,page,per_page,sort}', 'starred_url': 'https://api.github.com/user/starred{/owner}{/repo}', 'starred_gists_url': 'https://api.github.com/gists/starred', 'topic_search_url': 'https://api.github.com/search/topics?q={query}{&page,per_page}', 'user_url': 'https://api.github.com/users/{user}', 'user_organizations_url': 'https://api.github.com/user/orgs', 'user_repositories_url': 'https://api.github.com/users/{user}/repos{?type,page,per_page,sort}', 'user_search_url': 'https://api.github.com/search/users?q={query}{&page,per_page,sort,order}'}\n"
          ]
        },
        {
          "output_type": "error",
          "ename": "TypeError",
          "evalue": "ignored",
          "traceback": [
            "\u001b[0;31m---------------------------------------------------------------------------\u001b[0m",
            "\u001b[0;31mTypeError\u001b[0m                                 Traceback (most recent call last)",
            "\u001b[0;32m<ipython-input-27-4debb98cb4a5>\u001b[0m in \u001b[0;36m<module>\u001b[0;34m\u001b[0m\n\u001b[1;32m      9\u001b[0m \u001b[0;34m\u001b[0m\u001b[0m\n\u001b[1;32m     10\u001b[0m \u001b[0mprint\u001b[0m\u001b[0;34m(\u001b[0m\u001b[0mdata_json\u001b[0m\u001b[0;34m)\u001b[0m\u001b[0;34m\u001b[0m\u001b[0;34m\u001b[0m\u001b[0m\n\u001b[0;32m---> 11\u001b[0;31m \u001b[0mjOject\u001b[0m \u001b[0;34m=\u001b[0m \u001b[0mjson\u001b[0m\u001b[0;34m.\u001b[0m\u001b[0mloads\u001b[0m\u001b[0;34m(\u001b[0m\u001b[0mdata_json\u001b[0m\u001b[0;34m)\u001b[0m\u001b[0;34m\u001b[0m\u001b[0;34m\u001b[0m\u001b[0m\n\u001b[0m\u001b[1;32m     12\u001b[0m \u001b[0mprint\u001b[0m\u001b[0;34m(\u001b[0m\u001b[0mjOject\u001b[0m\u001b[0;34m)\u001b[0m\u001b[0;34m\u001b[0m\u001b[0;34m\u001b[0m\u001b[0m\n",
            "\u001b[0;32m/usr/lib/python3.7/json/__init__.py\u001b[0m in \u001b[0;36mloads\u001b[0;34m(s, encoding, cls, object_hook, parse_float, parse_int, parse_constant, object_pairs_hook, **kw)\u001b[0m\n\u001b[1;32m    339\u001b[0m     \u001b[0;32melse\u001b[0m\u001b[0;34m:\u001b[0m\u001b[0;34m\u001b[0m\u001b[0;34m\u001b[0m\u001b[0m\n\u001b[1;32m    340\u001b[0m         \u001b[0;32mif\u001b[0m \u001b[0;32mnot\u001b[0m \u001b[0misinstance\u001b[0m\u001b[0;34m(\u001b[0m\u001b[0ms\u001b[0m\u001b[0;34m,\u001b[0m \u001b[0;34m(\u001b[0m\u001b[0mbytes\u001b[0m\u001b[0;34m,\u001b[0m \u001b[0mbytearray\u001b[0m\u001b[0;34m)\u001b[0m\u001b[0;34m)\u001b[0m\u001b[0;34m:\u001b[0m\u001b[0;34m\u001b[0m\u001b[0;34m\u001b[0m\u001b[0m\n\u001b[0;32m--> 341\u001b[0;31m             raise TypeError(f'the JSON object must be str, bytes or bytearray, '\n\u001b[0m\u001b[1;32m    342\u001b[0m                             f'not {s.__class__.__name__}')\n\u001b[1;32m    343\u001b[0m         \u001b[0ms\u001b[0m \u001b[0;34m=\u001b[0m \u001b[0ms\u001b[0m\u001b[0;34m.\u001b[0m\u001b[0mdecode\u001b[0m\u001b[0;34m(\u001b[0m\u001b[0mdetect_encoding\u001b[0m\u001b[0;34m(\u001b[0m\u001b[0ms\u001b[0m\u001b[0;34m)\u001b[0m\u001b[0;34m,\u001b[0m \u001b[0;34m'surrogatepass'\u001b[0m\u001b[0;34m)\u001b[0m\u001b[0;34m\u001b[0m\u001b[0;34m\u001b[0m\u001b[0m\n",
            "\u001b[0;31mTypeError\u001b[0m: the JSON object must be str, bytes or bytearray, not dict"
          ]
        }
      ]
    }
  ]
}