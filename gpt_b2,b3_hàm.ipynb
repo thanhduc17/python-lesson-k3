{
  "nbformat": 4,
  "nbformat_minor": 0,
  "metadata": {
    "colab": {
      "provenance": [],
      "authorship_tag": "ABX9TyNA02JhZKJE1Busx9JmTJJp",
      "include_colab_link": true
    },
    "kernelspec": {
      "name": "python3",
      "display_name": "Python 3"
    },
    "language_info": {
      "name": "python"
    }
  },
  "cells": [
    {
      "cell_type": "markdown",
      "metadata": {
        "id": "view-in-github",
        "colab_type": "text"
      },
      "source": [
        "<a href=\"https://colab.research.google.com/github/thanhduc17/python-lesson-k3/blob/main/gpt_b2%2Cb3_h%C3%A0m.ipynb\" target=\"_parent\"><img src=\"https://colab.research.google.com/assets/colab-badge.svg\" alt=\"Open In Colab\"/></a>"
      ]
    },
    {
      "cell_type": "code",
      "execution_count": 74,
      "metadata": {
        "id": "GcG2Aa1cjRdm"
      },
      "outputs": [],
      "source": [
        "from  math import sqrt,acos,cos,pi,isclose\n",
        "def giai_pt_b1(a,b):\n",
        "  print(\"giải pt:\",a,\"x +\",b,\"= 0\")\n",
        "  if a == 0:\n",
        "    if b == 0:\n",
        "      print(\"phương trình Vô số nghiệm\")\n",
        "    else:\n",
        "      print(\"phương trình Vô nghiệm\")\n",
        "  else:\n",
        "    print(\"Phương trình có nghiệm x =\", -b / a)"
      ]
    },
    {
      "cell_type": "code",
      "source": [
        "def giai_pt_b2(a,b,c):\n",
        "  print(\"giải pt:\",a,\"x^2 +\",b,\"x +\",c,\"= 0\")\n",
        "  if (a == 0):\n",
        "    giai_pt_b1(b,c)\n",
        "  else:\n",
        "  # tính delta\n",
        "    delta = b * b - 4 * a * c\n",
        "  # tính nghiệm\n",
        "    if (delta > 0):\n",
        "      x1 = (-b + sqrt(delta)) / (2 * a)\n",
        "      x2 = (-b - sqrt(delta)) / (2 * a)\n",
        "      print (\"Phương trình có 2 nghiệm là:\\n x1 = \", x1, \" \\n x2 = \", x2)\n",
        "    else :\n",
        "      if(isclose(delta,0)):\n",
        "          x = -b / (2 * a)\n",
        "          print(\"Phương trình có nghiệm kép: x1 = x2 = \", x)\n",
        "      else:\n",
        "          print(\"Phương trình vô nghiệm!\")\n",
        "\n",
        "\n"
      ],
      "metadata": {
        "id": "0ORXVNfwkNEa"
      },
      "execution_count": 75,
      "outputs": []
    },
    {
      "cell_type": "code",
      "source": [
        "def main():\n",
        "  giai_pt_b2(9,3,1)\n",
        "  giai_pt_b2(0,0,1)\n",
        "  giai_pt_b2(0,0,0)\n",
        "  giai_pt_b2(4,3,2)\n",
        "if __name__ == '__main__':\n",
        "  main()"
      ],
      "metadata": {
        "colab": {
          "base_uri": "https://localhost:8080/"
        },
        "id": "9ubHWqLWmFaC",
        "outputId": "3747716b-2262-43ec-b5b1-13222148e93c"
      },
      "execution_count": 76,
      "outputs": [
        {
          "output_type": "stream",
          "name": "stdout",
          "text": [
            "giải pt: 9 x^2 + 3 x + 1 = 0\n",
            "Phương trình vô nghiệm!\n",
            "giải pt: 0 x^2 + 0 x + 1 = 0\n",
            "giải pt: 0 x + 1 = 0\n",
            "phương trình Vô nghiệm\n",
            "giải pt: 0 x^2 + 0 x + 0 = 0\n",
            "giải pt: 0 x + 0 = 0\n",
            "phương trình Vô số nghiệm\n",
            "giải pt: 4 x^2 + 3 x + 2 = 0\n",
            "Phương trình vô nghiệm!\n"
          ]
        }
      ]
    },
    {
      "cell_type": "code",
      "source": [
        "def giai_pt_b3(a,b,c,d):\n",
        "    print(\"giải pt:\",a,\"x^3 +\",b,\"x^2 +\",c,\"x +\",d,\"= 0\")\n",
        "    if (a == 0):\n",
        "      giai_pt_b2(b,c,d)\n",
        "    else:\n",
        "      delta1 = b **2 - 3 * a * c\n",
        "      if delta1 != 0 :\n",
        "          k = (9*a*b*c - 2*b**3 - 27*a**2*d)/(2*sqrt((abs(delta1)**3)))\n",
        "          print(k)\n",
        "      if delta1 > 0:\n",
        "          if abs(k) <= 1 :\n",
        "                cd = sqrt(delta1)\n",
        "                cs = acos(k)/3\n",
        "                x1 = (2*cd*cos(cs)-b)/(3*a)\n",
        "                x2 = (2*cd*cos(cs-(2*pi)/3)-b)/(3*a)\n",
        "                x3 = (2*cd*cos(cs+(2*pi)/3)-b)/(3*a)\n",
        "                print(\"nghiệm của pt là :\\n\",x1,x2,x3)\n",
        "          else:\n",
        "                x4 = ((sqrt(delta1)*abs(k))/(3*a*k))*(((abs(k)+(sqrt(k**2-1)))**(1/3)) + ((abs(k)-(sqrt(k**2-1))))**(1/3))-(b/(3*a))\n",
        "                print(\"phương trình có 1 nghiệm duy nhất \",x4)\n",
        "      else:\n",
        "            if delta1 == 0:\n",
        "                  bd = (b**3) - (27*a**2*d)\n",
        "                  print(bd)\n",
        "                  if bd == 0 :\n",
        "                    x14 = -b/(3*a)\n",
        "                    print(\"phương trình có  nghiệm bội\",x14)\n",
        "                  else:\n",
        "                    ba =((-1)*((-bd)**(1/3)))\n",
        "                    x12 = (-b + ba)/(3*a)\n",
        "                    print(\"phương trình có 1 nghiệm\",str(x12))\n",
        "            else:\n",
        "                q = (k+sqrt(k**2+1))**(1/3)\n",
        "                q1 =((-1)*((-(k-sqrt(k**2+1)))**(1/3)))\n",
        "                x12 = (sqrt(abs(delta1))/(3*a))*((q) + (q1))-(b/(3*a))\n",
        "                print(\"phương trình có 1 nghiệm duy nhất1 \",x12)  \n"
      ],
      "metadata": {
        "id": "YB8J6IFTsZ47"
      },
      "execution_count": 77,
      "outputs": []
    },
    {
      "cell_type": "code",
      "source": [
        "def main():\n",
        "  giai_pt_b3(9,3,3,1)\n",
        "  giai_pt_b3(1,-2,0.2,1)\n",
        "  giai_pt_b3(0,0,0,0)\n",
        "  giai_pt_b3(0,4,3,2)\n",
        "if __name__ == '__main__':\n",
        "  main()"
      ],
      "metadata": {
        "colab": {
          "base_uri": "https://localhost:8080/"
        },
        "id": "06-WpZ1ItBBy",
        "outputId": "fdc1661b-f836-47cc-9a7a-fcdd45af02ce"
      },
      "execution_count": 79,
      "outputs": [
        {
          "output_type": "stream",
          "name": "stdout",
          "text": [
            "giải pt: 9 x^3 + 3 x^2 + 3 x + 1 = 0\n",
            "-1.2374368670764582\n",
            "phương trình có 1 nghiệm duy nhất1  -0.33333333333333326\n",
            "giải pt: 1 x^3 + -2 x^2 + 0.2 x + 1 = 0\n",
            "-1.1644061338795515\n",
            "phương trình có 1 nghiệm duy nhất  -0.5845367027020331\n",
            "giải pt: 0 x^3 + 0 x^2 + 0 x + 0 = 0\n",
            "giải pt: 0 x^2 + 0 x + 0 = 0\n",
            "giải pt: 0 x + 0 = 0\n",
            "phương trình Vô số nghiệm\n",
            "giải pt: 0 x^3 + 4 x^2 + 3 x + 2 = 0\n",
            "giải pt: 4 x^2 + 3 x + 2 = 0\n",
            "Phương trình vô nghiệm!\n"
          ]
        }
      ]
    }
  ]
}