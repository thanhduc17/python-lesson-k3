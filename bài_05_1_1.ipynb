{
  "nbformat": 4,
  "nbformat_minor": 0,
  "metadata": {
    "colab": {
      "provenance": [],
      "authorship_tag": "ABX9TyNgog1Qb8zz+Be+JRHn6raf",
      "include_colab_link": true
    },
    "kernelspec": {
      "name": "python3",
      "display_name": "Python 3"
    },
    "language_info": {
      "name": "python"
    }
  },
  "cells": [
    {
      "cell_type": "markdown",
      "metadata": {
        "id": "view-in-github",
        "colab_type": "text"
      },
      "source": [
        "<a href=\"https://colab.research.google.com/github/thanhduc17/python-lesson-k3/blob/main/b%C3%A0i_05_1_1.ipynb\" target=\"_parent\"><img src=\"https://colab.research.google.com/assets/colab-badge.svg\" alt=\"Open In Colab\"/></a>"
      ]
    },
    {
      "cell_type": "markdown",
      "source": [
        "Câu 1: Sử dụng câu lệnh lặp for thực hiện vòng lặp có chỉ số đi từ 0 đến, tại mỗi bước lặp gán giá\n",
        "trị chỉ số này cho phần tử tương ứng của cấu trúc list. Biết n nguyên dương nhập vào từ bàn phím.\n",
        "\n"
      ],
      "metadata": {
        "id": "78by61LpNDTg"
      }
    },
    {
      "cell_type": "code",
      "execution_count": null,
      "metadata": {
        "colab": {
          "base_uri": "https://localhost:8080/"
        },
        "id": "JlxOLjTLG4Jb",
        "outputId": "4e2a900d-966c-4639-aa54-1ee7c0e3b527"
      },
      "outputs": [
        {
          "output_type": "stream",
          "name": "stdout",
          "text": [
            "nhập một số nguyên dương :5\n",
            "lần lặp số : 1 \n",
            "list1 = [1]\n",
            "lần lặp số : 2 \n",
            "list1 = [1, 2]\n",
            "lần lặp số : 3 \n",
            "list1 = [1, 2, 3]\n",
            "lần lặp số : 4 \n",
            "list1 = [1, 2, 3, 4]\n",
            "lần lặp số : 5 \n",
            "list1 = [1, 2, 3, 4, 5]\n"
          ]
        }
      ],
      "source": [
        "list1 = []\n",
        "n = abs(int(input(\"nhập một số nguyên dương :\")))\n",
        "for i in range(0,n):\n",
        "   i += 1\n",
        "   list1.append(i)\n",
        "   print(\"lần lặp số :\",i,\"\\nlist1 =\",list1)\n"
      ]
    },
    {
      "cell_type": "markdown",
      "source": [
        "Câu 2: Sử dụng cấu trúc list được tạo ra ở câu 1, hãy thực hiện:\n",
        "- Tính tổng của list bằng kỹ thuật cộng dồn và in kết quả ra màn hình;\n",
        "\n"
      ],
      "metadata": {
        "id": "FINo9lDqNHZO"
      }
    },
    {
      "cell_type": "code",
      "source": [
        "s = 0\n",
        "for i in list1:\n",
        "  s += i \n",
        "print(\"tổng các giá trị của list1=\",s)"
      ],
      "metadata": {
        "colab": {
          "base_uri": "https://localhost:8080/"
        },
        "id": "4A_EJVa0KPYd",
        "outputId": "146241af-10c3-4232-8ddf-779d162d6be4"
      },
      "execution_count": null,
      "outputs": [
        {
          "output_type": "stream",
          "name": "stdout",
          "text": [
            "tổng các giá trị của list1= 15\n"
          ]
        }
      ]
    },
    {
      "cell_type": "markdown",
      "source": [
        "- Tính tích của list bằng kỹ thuật nhân dồn và in kết quả ra màn hình."
      ],
      "metadata": {
        "id": "kcWZ2urNNOh2"
      }
    },
    {
      "cell_type": "code",
      "source": [
        "s1 = 1\n",
        "for i in list1:\n",
        "  s1 *= i \n",
        "print(\"tích các giá trị của list1=\",s1)"
      ],
      "metadata": {
        "colab": {
          "base_uri": "https://localhost:8080/"
        },
        "id": "cju7oRVWMwdf",
        "outputId": "922a6a08-708f-4743-8641-211386bad035"
      },
      "execution_count": null,
      "outputs": [
        {
          "output_type": "stream",
          "name": "stdout",
          "text": [
            "tích các giá trị của list1= 120\n"
          ]
        }
      ]
    },
    {
      "cell_type": "markdown",
      "source": [
        "Câu 3: Sử dụng vòng lặp for, hãy thực hiện:\n",
        "- In các giá trị của list ở trên ra màn hình theo chiều từ trái sang phải;\n",
        "- In các giá trị của list ở trên ra màn hình theo chiều từ phải sang trái."
      ],
      "metadata": {
        "id": "Ok5Mt3JMN1iW"
      }
    },
    {
      "cell_type": "code",
      "source": [
        "list1 = []\n",
        "n = abs(int(input(\"nhập một số nguyên dương :\")))\n",
        "for i in range(0,n):\n",
        "   i += 1\n",
        "   list1.append(i)\n",
        "list1.sort()\n",
        "\n",
        "print(list1)\n",
        "list1.reverse()\n",
        "print(list1)"
      ],
      "metadata": {
        "colab": {
          "base_uri": "https://localhost:8080/"
        },
        "id": "qdX-GNQQNug3",
        "outputId": "879d999f-be5a-4d6d-ca52-ef10bfd3c233"
      },
      "execution_count": null,
      "outputs": [
        {
          "output_type": "stream",
          "name": "stdout",
          "text": [
            "nhập một số nguyên dương :5\n",
            "[1, 2, 3, 4, 5]\n",
            "[5, 4, 3, 2, 1]\n"
          ]
        }
      ]
    },
    {
      "cell_type": "markdown",
      "source": [
        "Câu 4: Sử dụng cấu trúc list ở câu 1, hãy thực hiện:\n",
        "- Nhập vào từ bàn phím chỉ số của 2 phần tử khác nhau của list, có kiểm tra tính hợp lệ của\n",
        "chỉ số;\n",
        "- Hoán vị 2 phần tử này;\n",
        "- In list sau khi hoán vị ra màn hình."
      ],
      "metadata": {
        "id": "M_CB_ktDzvIL"
      }
    },
    {
      "cell_type": "code",
      "source": [
        "chi_so1=int(input(\"Nhập vào x1: \"))\n",
        "chi_so2=int(input(\"Nhập vào x2: \"))\n",
        "if chi_so1 == chi_so2 :\n",
        "  chi_so2 = int(input(\"mời nhập lại chỉ số thứ 2:\"))\n",
        "if chi_so1 >= len(list1) or chi_so1 < -len(list1) :\n",
        "  print(\"Không có list thỏa mãn\") \n",
        "else:\n",
        "  if list1[chi_so1] in list1:\n",
        "      print(\"Chương trình có \",\"x1 =\",list1[chi_so1])\n",
        "if chi_so2 >= len(list1) or chi_so2 < -len(list1) :\n",
        "  print(\"Không có list thỏa mãn\") \n",
        "else:\n",
        "  if list1[chi_so2] in list1:\n",
        "      print(\"Chương trình có \",\"x2 =\",list1[chi_so2])\n",
        "#Hoán vị hai vị trí\n",
        "list1[chi_so1],list1[chi_so2] = list1[chi_so2],list1[chi_so1]\n",
        "\n",
        "print(\"list1 = \",list1[chi_so1],list1[chi_so2])\n",
        "print(list1)"
      ],
      "metadata": {
        "colab": {
          "base_uri": "https://localhost:8080/"
        },
        "id": "hWY79hqF8ki-",
        "outputId": "eebd072e-1e14-4956-e22e-cc8f3e0000a7"
      },
      "execution_count": 30,
      "outputs": [
        {
          "output_type": "stream",
          "name": "stdout",
          "text": [
            "Nhập vào x1: 4\n",
            "Nhập vào x2: 2\n",
            "Chương trình có  x1 = 4\n",
            "Chương trình có  x2 = 1\n",
            "list1 =  1 4\n",
            "[1, 5, 4, 3, 1]\n"
          ]
        }
      ]
    }
  ]
}