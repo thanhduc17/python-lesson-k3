{
  "cells": [
    {
      "cell_type": "markdown",
      "metadata": {
        "id": "view-in-github",
        "colab_type": "text"
      },
      "source": [
        "<a href=\"https://colab.research.google.com/github/thanhduc17/python-lesson-k3/blob/main/bt_while.ipynb\" target=\"_parent\"><img src=\"https://colab.research.google.com/assets/colab-badge.svg\" alt=\"Open In Colab\"/></a>"
      ]
    },
    {
      "cell_type": "markdown",
      "metadata": {
        "id": "m_bTe9QdbUci"
      },
      "source": [
        "Bài 1:\n",
        "\n",
        "S = 1 + 2 + 3 + ⋯ + n\n",
        " với 0 < n ∈ N"
      ]
    },
    {
      "cell_type": "code",
      "execution_count": 7,
      "metadata": {
        "id": "kRRxuSX5avKN",
        "colab": {
          "base_uri": "https://localhost:8080/"
        },
        "outputId": "f213f447-353f-4d51-8a6a-5e1d1550af58"
      },
      "outputs": [
        {
          "output_type": "stream",
          "name": "stdout",
          "text": [
            "mời nhập một số nguyên :4\n",
            "1 0\n",
            "2 1\n",
            "3 3\n",
            "4 6\n",
            "Tổng của 1 đến  4 là: 10\n"
          ]
        }
      ],
      "source": [
        "n = int(input(\"mời nhập một số nguyên :\"))\n",
        "i =1\n",
        "s = 0\n",
        "while n < 0: \n",
        "  n = int(input(\"mời nhập lại một số nguyên :\"))\n",
        "  \n",
        "while i <= n: \n",
        "    print(i,s)\n",
        "    s = s + i\n",
        "    i+=1\n",
        "print (\"Tổng của 1 đến \",n,\"là:\",s)"
      ]
    },
    {
      "cell_type": "markdown",
      "source": [],
      "metadata": {
        "id": "-rp7RLwc4D6w"
      }
    },
    {
      "cell_type": "markdown",
      "source": [
        "2 .S = 1 + 3 + 5 + ⋯ + n, với 0 < n ∈ N và n là số chẵn\n"
      ],
      "metadata": {
        "id": "p6dsW9_94EZO"
      }
    },
    {
      "cell_type": "code",
      "source": [
        "n = int(input(\"mời nhập một số nguyên :\"))\n",
        "i = 1\n",
        "s = 0\n",
        "while n < 0: \n",
        "  n = int(input(\"mời nhập lại một số nguyên :\"))\n",
        "  print(n)\n",
        "while i <= n:\n",
        "  \n",
        "  if(i%2==0):\n",
        "    print(i,s)\n",
        "    s = s + i\n",
        "  i+=1\n",
        "print (\"Tổng các số chẵn từ 0 đến \",n,\"là:\",s)\n"
      ],
      "metadata": {
        "colab": {
          "base_uri": "https://localhost:8080/"
        },
        "id": "oSb6qNw3lCLK",
        "outputId": "1b97e56e-1b66-4e29-f4d0-7f84af5841a9"
      },
      "execution_count": 8,
      "outputs": [
        {
          "output_type": "stream",
          "name": "stdout",
          "text": [
            "mời nhập một số nguyên :-6\n",
            "mời nhập lại một số nguyên :6\n",
            "6\n",
            "2 0\n",
            "4 2\n",
            "6 6\n",
            "Tổng các số chẵn từ 0 đến  6 là: 12\n"
          ]
        }
      ]
    },
    {
      "cell_type": "markdown",
      "source": [
        "3. \n",
        "S = 2 + 4 + 6 + ... + n, với 0 < n ∈ N và n là số lẽ\n"
      ],
      "metadata": {
        "id": "-c-cS3G_4LUP"
      }
    },
    {
      "cell_type": "code",
      "source": [
        "n = int(input(\"mời nhập một số nguyên :\"))\n",
        "i = 0\n",
        "s = 0\n",
        "while n < 0: \n",
        "  n = int(input(\"mời nhập lại một số nguyên :\"))\n",
        "  print(n)\n",
        "while i <= n:\n",
        "  \n",
        "  if(i%2!=0):\n",
        "    print(i,s)\n",
        "    s = s + i\n",
        "  i+=1\n",
        "print (\"Tổng các số lẻ từ 1 đến \",n,\"là:\",s)"
      ],
      "metadata": {
        "colab": {
          "base_uri": "https://localhost:8080/"
        },
        "id": "QCxIDsukmZuN",
        "outputId": "64689491-da60-4f58-887c-3bc0fa986f52"
      },
      "execution_count": 13,
      "outputs": [
        {
          "output_type": "stream",
          "name": "stdout",
          "text": [
            "mời nhập một số nguyên :-6\n",
            "mời nhập lại một số nguyên :-8\n",
            "-8\n",
            "mời nhập lại một số nguyên :8\n",
            "8\n",
            "1 0\n",
            "3 1\n",
            "5 4\n",
            "7 9\n",
            "Tổng các số lẻ từ 1 đến  8 là: 16\n"
          ]
        }
      ]
    },
    {
      "cell_type": "markdown",
      "metadata": {
        "id": "KESc5pFv0Eh5"
      },
      "source": [
        "bai1\n",
        " câu 4:4. S = ln(1) + ln(2) + ... + ln(n), với n ∈ N và n > 0"
      ]
    },
    {
      "cell_type": "code",
      "execution_count": 17,
      "metadata": {
        "colab": {
          "base_uri": "https://localhost:8080/"
        },
        "id": "ETO9aGAa0HnG",
        "outputId": "4d7f65bd-6214-4c9c-a83a-adf9ad2803f8"
      },
      "outputs": [
        {
          "output_type": "stream",
          "name": "stdout",
          "text": [
            "nhập một số nguyên :2\n",
            "0 0\n",
            "1 0.0\n",
            "2 0.6931471805599453\n",
            "Tổng của 1 đến  2 là: 1.791759469228055\n"
          ]
        }
      ],
      "source": [
        "from math import log\n",
        "n = int(input(\"nhập một số nguyên :\"))\n",
        "i =0\n",
        "s = 0\n",
        "while n<0: \n",
        "  n = int(input(\"mời nhập lại một số nguyên :\"))\n",
        "while i <= n:\n",
        "  print(i,s)\n",
        "  i=i+1\n",
        "  s = s + log(i)\n",
        "  \n",
        "print (\"Tổng của 1 đến \",n,\"là:\",s)"
      ]
    },
    {
      "cell_type": "markdown",
      "metadata": {
        "id": "EaNHS7x20IYR"
      },
      "source": [
        "baif1 câu 5 :S = 1 +\n",
        "1/2+1/3 +  ... +1/n\n",
        ", với n ∈ N và n > 0\n"
      ]
    },
    {
      "cell_type": "code",
      "execution_count": 31,
      "metadata": {
        "colab": {
          "base_uri": "https://localhost:8080/"
        },
        "id": "CH-RdqJqxTN4",
        "outputId": "61096892-a056-47f3-bb68-6711538a6f1d"
      },
      "outputs": [
        {
          "output_type": "stream",
          "name": "stdout",
          "text": [
            "nhập một số nguyên :-3\n",
            "mời nhập lại một số nguyên :3\n",
            "1 1.0\n",
            "2 1.5\n",
            "3 1.8333333333333333\n",
            "Tổng của 1 đến  3 là: 1.8333333333333333\n"
          ]
        }
      ],
      "source": [
        "n = int(input(\"nhập một số nguyên :\"))\n",
        "s = 0\n",
        "i = 0\n",
        "while n<0: \n",
        "  n = int(input(\"mời nhập lại một số nguyên :\"))\n",
        "while i < n:\n",
        "  i=i+1\n",
        "  s = s + 1/i\n",
        "  print(i,s)\n",
        "  \n",
        "print (\"Tổng của 1 đến \",n,\"là:\",s)"
      ]
    },
    {
      "cell_type": "code",
      "execution_count": null,
      "metadata": {
        "id": "Vdcxa4WNxTL8"
      },
      "outputs": [],
      "source": []
    },
    {
      "cell_type": "markdown",
      "source": [
        "BÀI 2\n"
      ],
      "metadata": {
        "id": "p9oFQ44KvZZm"
      }
    },
    {
      "cell_type": "markdown",
      "metadata": {
        "id": "3H9MdP3x0wdl"
      },
      "source": [
        "1. Tính giai thừa của số n nguyên dương, n! = 1 × 2 × 3 × ... × n"
      ]
    },
    {
      "cell_type": "code",
      "execution_count": 28,
      "metadata": {
        "colab": {
          "base_uri": "https://localhost:8080/"
        },
        "id": "FCwMqgvZamEA",
        "outputId": "48d462fb-fb66-49bc-d794-39a495cb0c01"
      },
      "outputs": [
        {
          "output_type": "stream",
          "name": "stdout",
          "text": [
            "nhập một số nguyên :-3\n",
            "mời nhập lại một số nguyên :5\n",
            "1 1\n",
            "2 1\n",
            "3 2\n",
            "4 6\n",
            "5 24\n",
            "giai thừa của 5 là: 120\n"
          ]
        }
      ],
      "source": [
        "n = int(input(\"nhập một số nguyên :\"))\n",
        "s = 1\n",
        "i=1\n",
        "while n<0: \n",
        "  n = int(input(\"mời nhập lại một số nguyên :\"))\n",
        "while i <= n: \n",
        "  print(i,s)\n",
        "  s =s * i\n",
        "  i+=1\n",
        "print (\"giai thừa của\",n,\"là:\",s)\n"
      ]
    },
    {
      "cell_type": "markdown",
      "metadata": {
        "id": "F1FL6DSy1mMg"
      },
      "source": [
        "2. P =1/n!\n",
        "\n",
        ", với n ∈ N và n > 0"
      ]
    },
    {
      "cell_type": "code",
      "execution_count": 27,
      "metadata": {
        "colab": {
          "base_uri": "https://localhost:8080/"
        },
        "id": "ruCK9qeZ2H4o",
        "outputId": "c1d565e9-0d7b-479a-9c32-22fcb4c4d7d2"
      },
      "outputs": [
        {
          "output_type": "stream",
          "name": "stdout",
          "text": [
            "nhập một số nguyên :4\n",
            "1 1 1.0\n",
            "2 2 0.5\n",
            "3 6 0.16666666666666666\n",
            "4 24 0.041666666666666664\n",
            "giai thừa của 4 là: 0.041666666666666664\n"
          ]
        }
      ],
      "source": [
        "n =int(input(\"nhập một số nguyên :\")) \n",
        "s = 1\n",
        "i=1\n",
        "while n<0: \n",
        "  n = int(input(\"mời nhập lại một số nguyên :\"))\n",
        "while i <= n:\n",
        " \n",
        "  s =s * i\n",
        "  P=1/s\n",
        "  print(i,s,P)\n",
        "  i+=1\n",
        "  \n",
        "print (\"giai thừa của\",n,\"là:\",P)"
      ]
    },
    {
      "cell_type": "markdown",
      "source": [
        "3. P = 1 × 3 × 5 × ... × n, với n ∈ N và n là số lẻ\n"
      ],
      "metadata": {
        "id": "u5Yg4GPY4v8J"
      }
    },
    {
      "cell_type": "code",
      "source": [
        "n =int(input(\"nhập một số nguyên :\")) \n",
        "s = 1\n",
        "i = 0\n",
        "while n<0: \n",
        "  n = int(input(\"mời nhập lại một số nguyên :\"))\n",
        "while i < n:\n",
        "  \n",
        "  if i%2!=0:\n",
        "    s = s * i\n",
        "    print(i,s)\n",
        "  i=i+1\n",
        "print (\"giai thừa các số lẻ từ 1 đến \",n,\"là:\",s)"
      ],
      "metadata": {
        "colab": {
          "base_uri": "https://localhost:8080/"
        },
        "id": "cgaQaTMz4_0R",
        "outputId": "79d43786-ef9b-4399-e02c-c78df6ce3549"
      },
      "execution_count": 20,
      "outputs": [
        {
          "output_type": "stream",
          "name": "stdout",
          "text": [
            "nhập một số nguyên :-3\n",
            "mời nhập lại một số nguyên :6\n",
            "1 1\n",
            "3 3\n",
            "5 15\n",
            "giai thừa các số lẻ từ 1 đến  6 là: 15\n"
          ]
        }
      ]
    },
    {
      "cell_type": "markdown",
      "source": [
        "\n",
        "\n",
        "4. P = 2 × 4 × 6 × ... × n, với n ∈ N và n là số chẵn\n",
        "\n",
        "\n"
      ],
      "metadata": {
        "id": "QbCSVEl24d_a"
      }
    },
    {
      "cell_type": "code",
      "source": [
        "n =int(input(\"nhập một số nguyên :\")) \n",
        "s = 1\n",
        "i=1\n",
        "while n<0: \n",
        "  n = int(input(\"mời nhập lại một số nguyên :\"))\n",
        "while i <= n:\n",
        "  if i%2==0:\n",
        "    s = s * i\n",
        "    print(i,s)\n",
        "  i=i+1\n",
        "print (\"giai thừa các số chẵn từ 1 đến \",n,\"là:\",s)"
      ],
      "metadata": {
        "colab": {
          "base_uri": "https://localhost:8080/"
        },
        "id": "cdkGyyY-4vb4",
        "outputId": "0daeef4f-c5f2-4729-efa9-44e3b15595a9"
      },
      "execution_count": 19,
      "outputs": [
        {
          "output_type": "stream",
          "name": "stdout",
          "text": [
            "nhập một số nguyên :-4\n",
            "mời nhập lại một số nguyên :5\n",
            "2 2\n",
            "4 8\n",
            "giai thừa các số chẵn từ 1 đến  5 là: 8\n"
          ]
        }
      ]
    }
  ],
  "metadata": {
    "colab": {
      "provenance": [],
      "authorship_tag": "ABX9TyODqWzM8EpVgpP3ort29nuC",
      "include_colab_link": true
    },
    "kernelspec": {
      "display_name": "Python 3",
      "name": "python3"
    },
    "language_info": {
      "name": "python"
    }
  },
  "nbformat": 4,
  "nbformat_minor": 0
}