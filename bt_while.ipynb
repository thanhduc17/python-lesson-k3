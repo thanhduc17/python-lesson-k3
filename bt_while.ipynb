{
  "cells": [
    {
      "cell_type": "markdown",
      "metadata": {
        "id": "view-in-github",
        "colab_type": "text"
      },
      "source": [
        "<a href=\"https://colab.research.google.com/github/thanhduc17/python-lesson-k3/blob/main/bt_while.ipynb\" target=\"_parent\"><img src=\"https://colab.research.google.com/assets/colab-badge.svg\" alt=\"Open In Colab\"/></a>"
      ]
    },
    {
      "cell_type": "markdown",
      "metadata": {
        "id": "m_bTe9QdbUci"
      },
      "source": [
        "Bài 1:\n",
        "\n",
        "S = 1 + 2 + 3 + ⋯ + n\n",
        " với 0 < n ∈ N"
      ]
    },
    {
      "cell_type": "code",
      "execution_count": null,
      "metadata": {
        "colab": {
          "base_uri": "https://localhost:8080/"
        },
        "id": "kRRxuSX5avKN",
        "outputId": "057eb457-2d1d-4cfe-e176-299a8d0853bd"
      },
      "outputs": [
        {
          "output_type": "stream",
          "name": "stdout",
          "text": [
            "mời nhập một số nguyên :-4\n",
            "mời nhập lại một số nguyên :4\n",
            "4\n",
            "1 1\n",
            "2 3\n",
            "3 6\n",
            "Tổng của 1 đến  4 là: 10\n"
          ]
        }
      ],
      "source": [
        "n = int(input(\"mời nhập một số nguyên :\"))\n",
        "i =1\n",
        "s = 1\n",
        "while n<0: \n",
        "  n = int(input(\"mời nhập lại một số nguyên :\"))\n",
        "  print(n)\n",
        "while i < n: \n",
        "    print(i,s)\n",
        "    i+=1\n",
        "    s = s + i\n",
        "    \n",
        "print (\"Tổng của 1 đến \",n,\"là:\",s)"
      ]
    },
    {
      "cell_type": "markdown",
      "source": [],
      "metadata": {
        "id": "-rp7RLwc4D6w"
      }
    },
    {
      "cell_type": "markdown",
      "source": [
        "2 .S = 1 + 3 + 5 + ⋯ + n, với 0 < n ∈ N và n là số chẵn\n"
      ],
      "metadata": {
        "id": "p6dsW9_94EZO"
      }
    },
    {
      "cell_type": "code",
      "source": [
        "n = int(input(\"mời nhập một số nguyên :\"))\n",
        "i = 1\n",
        "s = 0\n",
        "while n < 0: \n",
        "  n = int(input(\"mời nhập lại một số nguyên :\"))\n",
        "  print(n)\n",
        "while i <= n:\n",
        "  i+=1\n",
        "  if(i%2==0):\n",
        "    print(i,s)\n",
        "    s = s + i\n",
        "print (\"Tổng các số chẵn từ 0 đến \",n,\"là:\",s)\n"
      ],
      "metadata": {
        "colab": {
          "base_uri": "https://localhost:8080/"
        },
        "id": "oSb6qNw3lCLK",
        "outputId": "b45b6e0b-ba8a-47b5-84ee-de0e798bf214"
      },
      "execution_count": null,
      "outputs": [
        {
          "output_type": "stream",
          "name": "stdout",
          "text": [
            "mời nhập một số nguyên :11\n",
            "2 0\n",
            "4 2\n",
            "6 6\n",
            "8 12\n",
            "10 20\n",
            "12 30\n",
            "Tổng các số chẵn từ 0 đến  11 là: 42\n"
          ]
        }
      ]
    },
    {
      "cell_type": "markdown",
      "source": [
        "3. \n",
        "S = 2 + 4 + 6 + ... + n, với 0 < n ∈ N và n là số lẽ\n"
      ],
      "metadata": {
        "id": "-c-cS3G_4LUP"
      }
    },
    {
      "cell_type": "code",
      "source": [
        "n = int(input(\"mời nhập một số nguyên :\"))\n",
        "i = 1\n",
        "s = 1\n",
        "while n < 0: \n",
        "  n = int(input(\"mời nhập lại một số nguyên :\"))\n",
        "  print(n)\n",
        "while i < n:\n",
        "  i+=1\n",
        "  if(i%2!=0):\n",
        "    print(i,s)\n",
        "    s = s + i\n",
        "print (\"Tổng các số lẻ từ 1 đến \",n,\"là:\",s)"
      ],
      "metadata": {
        "colab": {
          "base_uri": "https://localhost:8080/"
        },
        "id": "QCxIDsukmZuN",
        "outputId": "9e76180f-00eb-4155-a061-22090da5044d"
      },
      "execution_count": null,
      "outputs": [
        {
          "output_type": "stream",
          "name": "stdout",
          "text": [
            "mời nhập một số nguyên :8\n",
            "3 1\n",
            "5 4\n",
            "7 9\n",
            "Tổng các số lẻ từ 1 đến  8 là: 16\n"
          ]
        }
      ]
    },
    {
      "cell_type": "markdown",
      "metadata": {
        "id": "KESc5pFv0Eh5"
      },
      "source": [
        "bai1\n",
        " câu 4:4. S = ln(1) + ln(2) + ... + ln(n), với n ∈ N và n > 0"
      ]
    },
    {
      "cell_type": "code",
      "execution_count": null,
      "metadata": {
        "colab": {
          "base_uri": "https://localhost:8080/"
        },
        "id": "ETO9aGAa0HnG",
        "outputId": "b925fff8-0fce-419c-f331-7dd52faf0b30"
      },
      "outputs": [
        {
          "output_type": "stream",
          "name": "stdout",
          "text": [
            "nhập một số nguyên :2\n",
            "1 0.0\n",
            "2 0.6931471805599453\n",
            "Tổng của 1 đến  2 là: 0.6931471805599453\n"
          ]
        }
      ],
      "source": [
        "from math import log\n",
        "n = int(input(\"nhập một số nguyên :\"))\n",
        "i =0\n",
        "s = 0\n",
        "while n<0: \n",
        "  n = int(input(\"mời nhập lại một số nguyên :\"))\n",
        "while i < n:\n",
        "  i=i+1\n",
        "  s = s + log(i)\n",
        "  print(i,s)\n",
        "print (\"Tổng của 1 đến \",n,\"là:\",s)"
      ]
    },
    {
      "cell_type": "markdown",
      "metadata": {
        "id": "EaNHS7x20IYR"
      },
      "source": [
        "baif1 câu 5 :S = 1 +\n",
        "1/2+1/3 +  ... +1/n\n",
        ", với n ∈ N và n > 0\n"
      ]
    },
    {
      "cell_type": "code",
      "execution_count": null,
      "metadata": {
        "colab": {
          "base_uri": "https://localhost:8080/"
        },
        "id": "CH-RdqJqxTN4",
        "outputId": "84d267a2-66fb-43d1-a5e3-5d7d0fa303f6"
      },
      "outputs": [
        {
          "output_type": "stream",
          "name": "stdout",
          "text": [
            "nhập một số nguyên :2\n",
            "1 1.0\n",
            "2 1.5\n",
            "Tổng của 1 đến  2 là: 1.5\n"
          ]
        }
      ],
      "source": [
        "n = int(input(\"nhập một số nguyên :\"))\n",
        "s = 0\n",
        "i = 0\n",
        "while n<0: \n",
        "  n = int(input(\"mời nhập lại một số nguyên :\"))\n",
        "while i < n:\n",
        "  i=i+1\n",
        "  s = s + 1/i\n",
        "  print(i,s)\n",
        "print (\"Tổng của 1 đến \",n,\"là:\",s)"
      ]
    },
    {
      "cell_type": "code",
      "execution_count": null,
      "metadata": {
        "id": "Vdcxa4WNxTL8"
      },
      "outputs": [],
      "source": []
    },
    {
      "cell_type": "markdown",
      "source": [
        "BÀI 2\n"
      ],
      "metadata": {
        "id": "p9oFQ44KvZZm"
      }
    },
    {
      "cell_type": "markdown",
      "metadata": {
        "id": "3H9MdP3x0wdl"
      },
      "source": [
        "1. Tính giai thừa của số n nguyên dương, n! = 1 × 2 × 3 × ... × n"
      ]
    },
    {
      "cell_type": "code",
      "execution_count": null,
      "metadata": {
        "colab": {
          "base_uri": "https://localhost:8080/"
        },
        "id": "FCwMqgvZamEA",
        "outputId": "cadf3346-8dde-4c30-931b-c3134311923d"
      },
      "outputs": [
        {
          "output_type": "stream",
          "name": "stdout",
          "text": [
            "nhập một số nguyên :4\n",
            "2 2\n",
            "3 6\n",
            "4 24\n",
            "5 120\n",
            "giai thừa của 4 là: 120\n"
          ]
        }
      ],
      "source": [
        "n = int(input(\"nhập một số nguyên :\"))\n",
        "s = 1\n",
        "i=1\n",
        "while n<0: \n",
        "  n = int(input(\"mời nhập lại một số nguyên :\"))\n",
        "while i <= n: \n",
        "  i+=1\n",
        "  s =s * i\n",
        "  print(i,s)\n",
        "print (\"giai thừa của\",n,\"là:\",s)\n"
      ]
    },
    {
      "cell_type": "markdown",
      "metadata": {
        "id": "F1FL6DSy1mMg"
      },
      "source": [
        "2. P =1/n!\n",
        "\n",
        ", với n ∈ N và n > 0"
      ]
    },
    {
      "cell_type": "code",
      "execution_count": null,
      "metadata": {
        "colab": {
          "base_uri": "https://localhost:8080/"
        },
        "id": "ruCK9qeZ2H4o",
        "outputId": "46106537-730b-47bb-b151-8483e3cfd21c"
      },
      "outputs": [
        {
          "output_type": "stream",
          "name": "stdout",
          "text": [
            "nhập một số nguyên :3\n",
            "2 2 0.5\n",
            "3 6 0.16666666666666666\n",
            "4 24 0.041666666666666664\n",
            "giai thừa của 3 là: 0.041666666666666664\n"
          ]
        }
      ],
      "source": [
        "n =int(input(\"nhập một số nguyên :\")) \n",
        "s = 1\n",
        "i=1\n",
        "while n<0: \n",
        "  n = int(input(\"mời nhập lại một số nguyên :\"))\n",
        "while i <= n:\n",
        "  i+=1\n",
        "  s =s * i\n",
        "  P=1/s \n",
        "  print(i,s,P)\n",
        "print (\"giai thừa của\",n,\"là:\",P)"
      ]
    },
    {
      "cell_type": "markdown",
      "source": [
        "3. P = 1 × 3 × 5 × ... × n, với n ∈ N và n là số lẻ\n"
      ],
      "metadata": {
        "id": "u5Yg4GPY4v8J"
      }
    },
    {
      "cell_type": "code",
      "source": [
        "n =int(input(\"nhập một số nguyên :\")) \n",
        "s = 1\n",
        "i = 0\n",
        "while n<0: \n",
        "  n = int(input(\"mời nhập lại một số nguyên :\"))\n",
        "while i < n:\n",
        "  i=i+1\n",
        "  if i%2!=0:\n",
        "    s = s * i\n",
        "    print(i,s)\n",
        "print (\"giai thừa các số lẻ từ 1 đến \",n,\"là:\",s)"
      ],
      "metadata": {
        "colab": {
          "base_uri": "https://localhost:8080/"
        },
        "id": "cgaQaTMz4_0R",
        "outputId": "5c3ea9c6-d0df-4e2f-bc9b-41de1daccf05"
      },
      "execution_count": null,
      "outputs": [
        {
          "output_type": "stream",
          "name": "stdout",
          "text": [
            "nhập một số nguyên :6\n",
            "1 1\n",
            "3 3\n",
            "5 15\n",
            "giai thừa các số lẻ từ 1 đến  6 là: 15\n"
          ]
        }
      ]
    },
    {
      "cell_type": "markdown",
      "source": [
        "\n",
        "\n",
        "4. P = 2 × 4 × 6 × ... × n, với n ∈ N và n là số chẵn\n",
        "\n",
        "\n"
      ],
      "metadata": {
        "id": "QbCSVEl24d_a"
      }
    },
    {
      "cell_type": "code",
      "source": [
        "n =int(input(\"nhập một số nguyên :\")) \n",
        "s = 1\n",
        "i=1\n",
        "while n<0: \n",
        "  n = int(input(\"mời nhập lại một số nguyên :\"))\n",
        "while i <= n:\n",
        "  i=i+1\n",
        "  if i%2==0:\n",
        "    s = s * i\n",
        "    print(i,s)\n",
        "print (\"giai thừa các số chẵn từ 1 đến \",n,\"là:\",s)"
      ],
      "metadata": {
        "colab": {
          "base_uri": "https://localhost:8080/"
        },
        "id": "cdkGyyY-4vb4",
        "outputId": "35e99d55-8e17-4dc1-b79d-509f4ca27adb"
      },
      "execution_count": null,
      "outputs": [
        {
          "output_type": "stream",
          "name": "stdout",
          "text": [
            "nhập một số nguyên :8\n",
            "2 2\n",
            "4 8\n",
            "6 48\n",
            "8 384\n",
            "giai thừa các số chẵn từ 1 đến  8 là: 384\n"
          ]
        }
      ]
    }
  ],
  "metadata": {
    "colab": {
      "collapsed_sections": [],
      "provenance": [],
      "authorship_tag": "ABX9TyM0g4gN/WodgaiSpDaQHnjI",
      "include_colab_link": true
    },
    "kernelspec": {
      "display_name": "Python 3",
      "name": "python3"
    },
    "language_info": {
      "name": "python"
    }
  },
  "nbformat": 4,
  "nbformat_minor": 0
}