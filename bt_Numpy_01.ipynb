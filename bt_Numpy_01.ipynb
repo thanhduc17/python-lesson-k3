{
  "nbformat": 4,
  "nbformat_minor": 0,
  "metadata": {
    "colab": {
      "provenance": [],
      "authorship_tag": "ABX9TyOhNBmYPSdahhYX4QMGyyHC",
      "include_colab_link": true
    },
    "kernelspec": {
      "name": "python3",
      "display_name": "Python 3"
    },
    "language_info": {
      "name": "python"
    }
  },
  "cells": [
    {
      "cell_type": "markdown",
      "metadata": {
        "id": "view-in-github",
        "colab_type": "text"
      },
      "source": [
        "<a href=\"https://colab.research.google.com/github/thanhduc17/python-lesson-k3/blob/main/bt_Numpy_01.ipynb\" target=\"_parent\"><img src=\"https://colab.research.google.com/assets/colab-badge.svg\" alt=\"Open In Colab\"/></a>"
      ]
    },
    {
      "cell_type": "code",
      "source": [
        "import numpy as np\n"
      ],
      "metadata": {
        "id": "2NNldIaq-xfV"
      },
      "execution_count": 18,
      "outputs": []
    },
    {
      "cell_type": "code",
      "source": [
        "def tao_1_vector_co_15_phan_tu_int():\n",
        "  v2 = np.arange(start=-5, stop =10)\n",
        "  return v2\n",
        "  \n",
        "def tao_1_vector_co_15_phan_tu_float():\n",
        "  v3 = np.linspace(start=-2, stop=3, num=15, dtype=float)\n",
        "  return v3\n",
        "\n",
        "def sinh_ngau_nhien_1_vector(a,b):\n",
        "  v5 = np.random.randint(low=a,high=b, size=10)\n",
        "  return v5\n",
        "\n",
        "def sinh_ngau_nhien_1_vector1(a,b):\n",
        "  v7 = (b-a)*np.random.random_sample(10) + a\n",
        "  return v7\n",
        "\n",
        "def kiem_tra(v7):\n",
        "  c=print(\"Kiểm tra kích thước\",v7.shape)\n",
        "  n=print(\"Kiểm tra hạng \",v7.ndim)\n"
      ],
      "metadata": {
        "id": "LGkLCLXUujEu"
      },
      "execution_count": 22,
      "outputs": []
    },
    {
      "cell_type": "code",
      "source": [
        "def main():\n",
        "  a = float(input())\n",
        "  b = float(input())\n",
        "  z=tao_1_vector_co_15_phan_tu_int()\n",
        "  z1=tao_1_vector_co_15_phan_tu_float()\n",
        "  z11=sinh_ngau_nhien_1_vector(a,b)\n",
        "  z111=sinh_ngau_nhien_1_vector1(a,b)\n",
        "  print(\"A\",z)\n",
        "  print(\"B\",z1)\n",
        "  print(\"A1\",z11)\n",
        "  print(\"B1\",z111) \n",
        "  kiem_tra(z11)\n",
        "\n",
        "if __name__==\"__main__\":\n",
        "  main()"
      ],
      "metadata": {
        "colab": {
          "base_uri": "https://localhost:8080/"
        },
        "id": "O80tBNkE0cXL",
        "outputId": "7cb33467-a8f6-4e18-9b6d-9d4310cc95e7"
      },
      "execution_count": 23,
      "outputs": [
        {
          "output_type": "stream",
          "name": "stdout",
          "text": [
            "-10\n",
            "10\n",
            "A [-5 -4 -3 -2 -1  0  1  2  3  4  5  6  7  8  9]\n",
            "B [-2.         -1.64285714 -1.28571429 -0.92857143 -0.57142857 -0.21428571\n",
            "  0.14285714  0.5         0.85714286  1.21428571  1.57142857  1.92857143\n",
            "  2.28571429  2.64285714  3.        ]\n",
            "A1 [ -1   3  -6   2   3  -4   5   9 -10   8]\n",
            "B1 [-5.8366595  -3.92838435 -6.30289462 -0.96854274  5.45771887  7.30443577\n",
            "  3.37349401 -0.26499769 -6.11184667 -2.99859797]\n",
            "Kiểm tra kích thước (10,)\n",
            "Kiểm tra hạng  1\n"
          ]
        }
      ]
    },
    {
      "cell_type": "code",
      "source": [
        "def nhan_so_voi_vector(x):\n",
        "  a = 5\n",
        "  v8 = 5*x\n",
        "  return v8\n",
        "\n",
        "def cong_2_vector1(x,y): \n",
        "  z = x + y\n",
        "  return z\n",
        "\n",
        "def nhan_2_vector(x,y):\n",
        "  n = np.dot(x, y)\n",
        "  return n\n",
        "  \n",
        "def nhan_Hadamard_2_vector(x,y):\n",
        "  h = np.multiply(x, y)\n",
        "\n",
        "  return h"
      ],
      "metadata": {
        "id": "i-biMzPOCf57"
      },
      "execution_count": 21,
      "outputs": []
    },
    {
      "cell_type": "code",
      "source": [
        "def main():\n",
        "  x = np.random.randint(5, size=10)\n",
        "  y = np.random.randint(low=-5,high=5, size=10)\n",
        "  v= nhan_so_voi_vector(x)\n",
        "  r = cong_2_vector1(x,y)\n",
        "  h=nhan_Hadamard_2_vector(x,y)\n",
        "  print(\"A\",x)\n",
        "  print(\"B\",y)\n",
        "  print(\"A.B =\",v)\n",
        "  print(\"A + B =\",r)\n",
        "  print('Hadamard product = ', h)\n",
        "if __name__==\"__main__\":\n",
        "  main()"
      ],
      "metadata": {
        "colab": {
          "base_uri": "https://localhost:8080/"
        },
        "id": "7YiaNRxxDwM5",
        "outputId": "12d1685b-fb9a-438d-d4b6-ee31d6dffccd"
      },
      "execution_count": 17,
      "outputs": [
        {
          "output_type": "stream",
          "name": "stdout",
          "text": [
            "A [0 0 2 3 2 2 3 3 0 3]\n",
            "B [ 2 -3 -1  0  3 -2  1 -5 -3  4]\n",
            "A.B = [ 0  0 10 15 10 10 15 15  0 15]\n",
            "A + B = [ 2 -3  1  3  5  0  4 -2 -3  7]\n",
            "Hadamard product =  [  0   0  -2   0   6  -4   3 -15   0  12]\n"
          ]
        }
      ]
    }
  ]
}