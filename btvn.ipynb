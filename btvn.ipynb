{
  "nbformat": 4,
  "nbformat_minor": 0,
  "metadata": {
    "colab": {
      "provenance": [],
      "authorship_tag": "ABX9TyMylkR6w4P3nweenu2RI4Oo",
      "include_colab_link": true
    },
    "kernelspec": {
      "name": "python3",
      "display_name": "Python 3"
    },
    "language_info": {
      "name": "python"
    }
  },
  "cells": [
    {
      "cell_type": "markdown",
      "metadata": {
        "id": "view-in-github",
        "colab_type": "text"
      },
      "source": [
        "<a href=\"https://colab.research.google.com/github/thanhduc17/python-lesson-k3/blob/main/btvn.ipynb\" target=\"_parent\"><img src=\"https://colab.research.google.com/assets/colab-badge.svg\" alt=\"Open In Colab\"/></a>"
      ]
    },
    {
      "cell_type": "code",
      "execution_count": null,
      "metadata": {
        "colab": {
          "base_uri": "https://localhost:8080/"
        },
        "id": "vs017tIDnu5K",
        "outputId": "73666769-da73-490c-ab9d-f3eeeaa80e28"
      },
      "outputs": [
        {
          "output_type": "stream",
          "name": "stdout",
          "text": [
            "mời nhập phần tử của x  3\n",
            "x 1 = 3.0\n",
            "mời nhập phần tử của x  2\n",
            "x 2 = 2.0\n",
            "mời nhập phần tử của x  1\n",
            "x 3 = 1.0\n",
            "mời nhập phần tử của x  4\n",
            "x 4 = 4.0\n",
            "mời nhập phần tử của x  3\n",
            "x 5 = 3.0\n",
            "mời nhập phần tử của x  2\n",
            "x 6 = 2.0\n",
            "mời nhập phần tử của x  4\n",
            "x 7 = 4.0\n",
            "X = [3.0, 2.0, 1.0, 4.0, 3.0, 2.0, 4.0]\n"
          ]
        }
      ],
      "source": [
        "X=[]\n",
        "for i in range(0,7) :\n",
        "  i+=1\n",
        "  x = float(input(\"mời nhập phần tử của x  \"))\n",
        "  print(\"x\",i,\"=\",x)\n",
        "  X.append(x)\n",
        "\n",
        "print(\"X =\",X)"
      ]
    },
    {
      "cell_type": "code",
      "source": [
        "X = []\n",
        "import random\n",
        "for i in range(0,30) :\n",
        "  i+=1\n",
        "  x = random.randint(-10, 10)\n",
        "  print(\"x\",i,\"=\",x)\n",
        "  X.append(x)\n",
        "  \n",
        "print(\"X =\",X)\n",
        "\n"
      ],
      "metadata": {
        "colab": {
          "base_uri": "https://localhost:8080/"
        },
        "id": "zDbNGLkE3Kfs",
        "outputId": "43194a26-3f69-46ee-a11c-d89e229cdc68"
      },
      "execution_count": null,
      "outputs": [
        {
          "output_type": "stream",
          "name": "stdout",
          "text": [
            "x 1 = 10\n",
            "x 2 = -6\n",
            "x 3 = -7\n",
            "x 4 = -7\n",
            "x 5 = 5\n",
            "x 6 = 7\n",
            "x 7 = 7\n",
            "x 8 = -9\n",
            "x 9 = -5\n",
            "x 10 = 10\n",
            "x 11 = 6\n",
            "x 12 = -2\n",
            "x 13 = 0\n",
            "x 14 = -1\n",
            "x 15 = 3\n",
            "x 16 = 8\n",
            "x 17 = -8\n",
            "x 18 = 4\n",
            "x 19 = 2\n",
            "x 20 = 5\n",
            "x 21 = -4\n",
            "x 22 = -5\n",
            "x 23 = 5\n",
            "x 24 = 5\n",
            "x 25 = -6\n",
            "x 26 = 5\n",
            "x 27 = -9\n",
            "x 28 = -7\n",
            "x 29 = 2\n",
            "x 30 = -6\n",
            "X = [10, -6, -7, -7, 5, 7, 7, -9, -5, 10, 6, -2, 0, -1, 3, 8, -8, 4, 2, 5, -4, -5, 5, 5, -6, 5, -9, -7, 2, -6]\n"
          ]
        }
      ]
    },
    {
      "cell_type": "code",
      "source": [
        "X = []\n",
        "import random\n",
        "for i in range(0,30) :\n",
        "  i+=1\n",
        "  n =(-5.6,6.9)\n",
        "  x = random.uniform(-5.7,6.9)\n",
        "  print(\"x\",i,\"=\",x)\n",
        "  X.append(x)\n",
        "print(\"X =\",X)"
      ],
      "metadata": {
        "id": "wjLT8hgwV0kT",
        "colab": {
          "base_uri": "https://localhost:8080/"
        },
        "outputId": "e473544f-ddc0-4227-b18e-36a66419c710"
      },
      "execution_count": null,
      "outputs": [
        {
          "output_type": "stream",
          "name": "stdout",
          "text": [
            "x 1 = -0.08778610474445969\n",
            "x 2 = 5.410389648859067\n",
            "x 3 = 0.5824219365521079\n",
            "x 4 = 4.05684661894685\n",
            "x 5 = -1.6233286101234494\n",
            "x 6 = -1.05139270094035\n",
            "x 7 = 3.36144691378174\n",
            "x 8 = 4.630565752532319\n",
            "x 9 = -4.620640632288117\n",
            "x 10 = 2.881267613218813\n",
            "x 11 = -4.8911255315248425\n",
            "x 12 = 0.31615439161924463\n",
            "x 13 = 1.163423607133712\n",
            "x 14 = 1.7600548477273765\n",
            "x 15 = -3.053005754633706\n",
            "x 16 = 2.778730516208314\n",
            "x 17 = -3.3960450523791708\n",
            "x 18 = -4.440407949528241\n",
            "x 19 = 0.19020709029881733\n",
            "x 20 = 1.8949088876288727\n",
            "x 21 = -3.2372857735767027\n",
            "x 22 = -2.0363228537210234\n",
            "x 23 = 3.6768148702039793\n",
            "x 24 = 3.386294590851395\n",
            "x 25 = 1.6758254337766516\n",
            "x 26 = 1.3169552547631893\n",
            "x 27 = 3.812298483625308\n",
            "x 28 = 2.3832588787745577\n",
            "x 29 = 5.410379703149384\n",
            "x 30 = 1.09904297920591\n",
            "X = [-0.08778610474445969, 5.410389648859067, 0.5824219365521079, 4.05684661894685, -1.6233286101234494, -1.05139270094035, 3.36144691378174, 4.630565752532319, -4.620640632288117, 2.881267613218813, -4.8911255315248425, 0.31615439161924463, 1.163423607133712, 1.7600548477273765, -3.053005754633706, 2.778730516208314, -3.3960450523791708, -4.440407949528241, 0.19020709029881733, 1.8949088876288727, -3.2372857735767027, -2.0363228537210234, 3.6768148702039793, 3.386294590851395, 1.6758254337766516, 1.3169552547631893, 3.812298483625308, 2.3832588787745577, 5.410379703149384, 1.09904297920591]\n"
          ]
        }
      ]
    },
    {
      "cell_type": "code",
      "source": [
        "import numpy as np\n",
        "import random\n",
        "X=[]\n",
        "a = float(input(\"mời nhập số thực a =\"))\n",
        "\n",
        "for i in range(0,10) :\n",
        "  i+=1\n",
        "  x = random.randint(0,100)\n",
        "  X.append(x)\n",
        "print(\"X =\",X)\n",
        "\n",
        "X1 = np.array(X)\n",
        "t = a*X1\n",
        "\n",
        "print(a,\"*\",X1,\"=\",t)"
      ],
      "metadata": {
        "colab": {
          "base_uri": "https://localhost:8080/"
        },
        "id": "MvaHK5CpArrF",
        "outputId": "361950ac-88cc-43b2-9148-39077c3e142b"
      },
      "execution_count": null,
      "outputs": [
        {
          "output_type": "stream",
          "name": "stdout",
          "text": [
            "mời nhập số thực a =2\n",
            "X = [92, 77, 55, 23, 92, 69, 11, 43, 19, 70]\n",
            "2.0 * [92 77 55 23 92 69 11 43 19 70] = [184. 154. 110.  46. 184. 138.  22.  86.  38. 140.]\n"
          ]
        }
      ]
    },
    {
      "cell_type": "code",
      "source": [],
      "metadata": {
        "id": "uaY7qg_UycYl"
      },
      "execution_count": null,
      "outputs": []
    },
    {
      "cell_type": "code",
      "source": [
        "import random \n",
        "x1 = []\n",
        "x2 = []\n",
        "for i in range(0,15):\n",
        "    i+=1\n",
        "    x=random.randint(0,1000 )\n",
        "    x4=random.randint(0,1000 )\n",
        "    x1.append(x)\n",
        "    x2.append(x4)\n",
        "print(x1)\n",
        "print(x2)\n",
        "ư1 = np.array(x1)\n",
        "ư2 = np.array(x2)\n",
        "\n",
        "t = ư1+ ư2\n",
        "a = ư1- ư2\n",
        "print(t,\"\\n\",a)"
      ],
      "metadata": {
        "colab": {
          "base_uri": "https://localhost:8080/"
        },
        "id": "SwuYW8oFNfBx",
        "outputId": "5892d7a9-ec09-46d1-8f67-8820cb42c851"
      },
      "execution_count": null,
      "outputs": [
        {
          "output_type": "stream",
          "name": "stdout",
          "text": [
            "[980, 239, 388, 684, 391, 886, 587, 477, 441, 370, 962, 621, 568, 194, 527]\n",
            "[689, 894, 973, 19, 658, 1000, 946, 884, 437, 654, 414, 512, 175, 24, 351]\n",
            "[1669 1133 1361  703 1049 1886 1533 1361  878 1024 1376 1133  743  218\n",
            "  878] \n",
            " [ 291 -655 -585  665 -267 -114 -359 -407    4 -284  548  109  393  170\n",
            "  176]\n"
          ]
        }
      ]
    },
    {
      "cell_type": "code",
      "source": [
        "x1 = []\n",
        "x2 = []\n",
        "for i in range(0,15):\n",
        "    i+=1\n",
        "    x=random.randint(0,10 )\n",
        "    x4=random.randint(0,10 )\n",
        "    x1.append(x)\n",
        "    x2.append(x4)\n",
        "print(x1)\n",
        "print(x2)\n",
        "ư1 = np.array(x1)\n",
        "ư2 = np.array(x2)\n",
        "t = ư1*ư2\n",
        "print(t,\"\\n\")"
      ],
      "metadata": {
        "colab": {
          "base_uri": "https://localhost:8080/"
        },
        "id": "qdz4az302nCE",
        "outputId": "34a5d797-79f9-4cd1-e38b-cb9316d2ddf5"
      },
      "execution_count": null,
      "outputs": [
        {
          "output_type": "stream",
          "name": "stdout",
          "text": [
            "[4, 0, 9, 8, 4, 8, 10, 4, 3, 7, 10, 2, 9, 9, 3]\n",
            "[10, 8, 3, 4, 9, 7, 3, 2, 1, 5, 2, 9, 1, 0, 9]\n",
            "[40  0 27 32 36 56 30  8  3 35 20 18  9  0 27] \n",
            "\n"
          ]
        }
      ]
    },
    {
      "cell_type": "code",
      "source": [
        "import random\n",
        "x = []\n",
        "y = []\n",
        "tvh = 0 \n",
        "for i in range(0,15):\n",
        "    i+=1\n",
        "    x1=random.randint(0,10 )\n",
        "    y2=random.randint(0,10 )\n",
        "    x.append(x1)\n",
        "    y.append(y2)\n",
        "    tvh += x[i]\n",
        "print(x)\n",
        "print(y)\n",
        "print(tvh,\"\\n\")"
      ],
      "metadata": {
        "colab": {
          "base_uri": "https://localhost:8080/",
          "height": 235
        },
        "id": "xBrZ9A1ihe3g",
        "outputId": "ee4ec53f-fed3-47c3-be21-9d9454df1e1b"
      },
      "execution_count": null,
      "outputs": [
        {
          "output_type": "error",
          "ename": "IndexError",
          "evalue": "ignored",
          "traceback": [
            "\u001b[0;31m---------------------------------------------------------------------------\u001b[0m",
            "\u001b[0;31mIndexError\u001b[0m                                Traceback (most recent call last)",
            "\u001b[0;32m<ipython-input-7-02b2b906f89d>\u001b[0m in \u001b[0;36m<module>\u001b[0;34m\u001b[0m\n\u001b[1;32m      9\u001b[0m     \u001b[0mx\u001b[0m\u001b[0;34m.\u001b[0m\u001b[0mappend\u001b[0m\u001b[0;34m(\u001b[0m\u001b[0mx1\u001b[0m\u001b[0;34m)\u001b[0m\u001b[0;34m\u001b[0m\u001b[0;34m\u001b[0m\u001b[0m\n\u001b[1;32m     10\u001b[0m     \u001b[0my\u001b[0m\u001b[0;34m.\u001b[0m\u001b[0mappend\u001b[0m\u001b[0;34m(\u001b[0m\u001b[0my2\u001b[0m\u001b[0;34m)\u001b[0m\u001b[0;34m\u001b[0m\u001b[0;34m\u001b[0m\u001b[0m\n\u001b[0;32m---> 11\u001b[0;31m     \u001b[0mtvh\u001b[0m \u001b[0;34m+=\u001b[0m \u001b[0mx\u001b[0m\u001b[0;34m[\u001b[0m\u001b[0mi\u001b[0m\u001b[0;34m]\u001b[0m\u001b[0;34m\u001b[0m\u001b[0;34m\u001b[0m\u001b[0m\n\u001b[0m\u001b[1;32m     12\u001b[0m \u001b[0mprint\u001b[0m\u001b[0;34m(\u001b[0m\u001b[0mx\u001b[0m\u001b[0;34m)\u001b[0m\u001b[0;34m\u001b[0m\u001b[0;34m\u001b[0m\u001b[0m\n\u001b[1;32m     13\u001b[0m \u001b[0mprint\u001b[0m\u001b[0;34m(\u001b[0m\u001b[0my\u001b[0m\u001b[0;34m)\u001b[0m\u001b[0;34m\u001b[0m\u001b[0;34m\u001b[0m\u001b[0m\n",
            "\u001b[0;31mIndexError\u001b[0m: list index out of range"
          ]
        }
      ]
    },
    {
      "cell_type": "code",
      "source": [
        "import numpy as np\n",
        "x1 = []\n",
        "for i in range(0,15):\n",
        "    i+=1\n",
        "    x=random.randint(0,10 )\n",
        "    x1.append(x) \n",
        "print(x1)\n",
        "ư1 = np.array(x1)\n",
        "x=ư1.reshape(3,5)\n",
        "print(x)"
      ],
      "metadata": {
        "colab": {
          "base_uri": "https://localhost:8080/"
        },
        "id": "M7QfDd3Y4tWf",
        "outputId": "8cf7e8b3-18e8-4e17-ac12-938db34d324d"
      },
      "execution_count": null,
      "outputs": [
        {
          "output_type": "stream",
          "name": "stdout",
          "text": [
            "[5, 10, 7, 7, 4, 9, 1, 8, 0, 1, 9, 7, 7, 0, 5]\n",
            "[[ 5 10  7  7  4]\n",
            " [ 9  1  8  0  1]\n",
            " [ 9  7  7  0  5]]\n"
          ]
        }
      ]
    },
    {
      "cell_type": "code",
      "source": [
        "import numpy as np\n",
        "x1 = []\n",
        "for i in range(0,15):\n",
        "    i+=1\n",
        "    x=random.randint(0,10 )\n",
        "    x1.append(x) \n",
        "print(x1)\n",
        "a = float(input())\n",
        "ư1 = np.array(x1)\n",
        "x=ư1.reshape(3,5)\n",
        "t = a*x\n",
        "print(x)\n",
        "print(t)\n"
      ],
      "metadata": {
        "colab": {
          "base_uri": "https://localhost:8080/"
        },
        "id": "ziCbSnvh5oLq",
        "outputId": "10f4f8ed-6158-4ccf-ab53-0028d8c554a4"
      },
      "execution_count": null,
      "outputs": [
        {
          "output_type": "stream",
          "name": "stdout",
          "text": [
            "[4, 0, 6, 4, 9, 8, 8, 4, 6, 10, 6, 7, 10, 8, 4]\n",
            "2.5\n",
            "[[ 4  0  6  4  9]\n",
            " [ 8  8  4  6 10]\n",
            " [ 6  7 10  8  4]]\n",
            "[[10.   0.  15.  10.  22.5]\n",
            " [20.  20.  10.  15.  25. ]\n",
            " [15.  17.5 25.  20.  10. ]]\n"
          ]
        }
      ]
    },
    {
      "cell_type": "code",
      "source": [
        "x1 = []\n",
        "x2 = []\n",
        "for i in range(0,15):\n",
        "    i+=1\n",
        "    x=random.randint(0,10 )\n",
        "    x4=random.randint(0,10 )\n",
        "    x1.append(x)\n",
        "    x2.append(x4)\n",
        "print(x1)\n",
        "print(x2)\n",
        "ư1 = np.array(x1)\n",
        "ư2 = np.array(x2)\n",
        "x=ư1.reshape(3,5)\n",
        "x1=ư2.reshape(3,5)\n",
        "t=x+x1\n",
        "print(x,\"\\n\",x1)\n",
        "print(t,\"\\n\")"
      ],
      "metadata": {
        "colab": {
          "base_uri": "https://localhost:8080/"
        },
        "id": "KCmSD_jx64iq",
        "outputId": "660ab9cc-10af-4a81-e074-0d71d818efc9"
      },
      "execution_count": null,
      "outputs": [
        {
          "output_type": "stream",
          "name": "stdout",
          "text": [
            "[4, 1, 9, 9, 2, 4, 2, 0, 2, 9, 0, 8, 0, 1, 1]\n",
            "[2, 6, 4, 7, 10, 4, 7, 10, 1, 9, 3, 10, 8, 2, 7]\n",
            "[[4 1 9 9 2]\n",
            " [4 2 0 2 9]\n",
            " [0 8 0 1 1]] \n",
            " [[ 2  6  4  7 10]\n",
            " [ 4  7 10  1  9]\n",
            " [ 3 10  8  2  7]]\n",
            "[[ 6  7 13 16 12]\n",
            " [ 8  9 10  3 18]\n",
            " [ 3 18  8  3  8]] \n",
            "\n"
          ]
        }
      ]
    },
    {
      "cell_type": "code",
      "source": [
        "x1 = []\n",
        "x2 = []\n",
        "for i in range(0,12):\n",
        "    i+=1\n",
        "    x=random.randint(0,10 )\n",
        "    x1.append(x)\n",
        "for i in range(0,20):\n",
        "    i+=1\n",
        "    x4=random.randint(0,10 )\n",
        "    x2.append(x4)\n",
        "print(x1)\n",
        "print(x2)\n",
        "ư1 = np.array(x1)\n",
        "ư2 = np.array(x2)\n",
        "x=ư1.reshape(3,4)\n",
        "x1=ư2.reshape(4,5)\n",
        "t=x@x1\n",
        "print(x,\"\\n\",x1)\n",
        "print(t,\"\\n\")"
      ],
      "metadata": {
        "colab": {
          "base_uri": "https://localhost:8080/"
        },
        "id": "4EaoMDBu7pug",
        "outputId": "bc5777fd-9fa6-4de3-cb0e-2853a23fcaeb"
      },
      "execution_count": null,
      "outputs": [
        {
          "output_type": "stream",
          "name": "stdout",
          "text": [
            "[4, 8, 5, 4, 5, 3, 10, 2, 5, 5, 2, 10]\n",
            "[3, 3, 5, 8, 0, 5, 1, 4, 10, 1, 2, 6, 9, 9, 2, 5, 1, 4, 6, 10]\n",
            "[[ 4  8  5  4]\n",
            " [ 5  3 10  2]\n",
            " [ 5  5  2 10]] \n",
            " [[ 3  3  5  8  0]\n",
            " [ 5  1  4 10  1]\n",
            " [ 2  6  9  9  2]\n",
            " [ 5  1  4  6 10]]\n",
            "[[ 82  54 113 181  58]\n",
            " [ 60  80 135 172  43]\n",
            " [ 94  42 103 168 109]] \n",
            "\n"
          ]
        }
      ]
    }
  ]
}