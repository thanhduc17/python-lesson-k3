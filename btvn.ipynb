{
  "nbformat": 4,
  "nbformat_minor": 0,
  "metadata": {
    "colab": {
      "provenance": [],
      "authorship_tag": "ABX9TyO6DzFUpCW0teUBuIDhGgYE",
      "include_colab_link": true
    },
    "kernelspec": {
      "name": "python3",
      "display_name": "Python 3"
    },
    "language_info": {
      "name": "python"
    }
  },
  "cells": [
    {
      "cell_type": "markdown",
      "metadata": {
        "id": "view-in-github",
        "colab_type": "text"
      },
      "source": [
        "<a href=\"https://colab.research.google.com/github/thanhduc17/python-lesson-k3/blob/main/btvn.ipynb\" target=\"_parent\"><img src=\"https://colab.research.google.com/assets/colab-badge.svg\" alt=\"Open In Colab\"/></a>"
      ]
    },
    {
      "cell_type": "markdown",
      "source": [
        "Bài 1: Một vector x ∈ R^n\n",
        "(hay còn gọi là 1 tensor hạng 1) được diễn đạt dưới dạng x = [x0; x1; ... ; xn−1]. \n",
        "\n",
        "Hãy viết chương trình nhập dữ liệu cho 1 vector x ∈ R^7 từ bàn phím.\n",
        "\n"
      ],
      "metadata": {
        "id": "Q69C6TcL_0gx"
      }
    },
    {
      "cell_type": "code",
      "execution_count": 2,
      "metadata": {
        "colab": {
          "base_uri": "https://localhost:8080/"
        },
        "id": "vs017tIDnu5K",
        "outputId": "1df5c4b2-b3fc-4f56-bf57-a7aa186adedb"
      },
      "outputs": [
        {
          "output_type": "stream",
          "name": "stdout",
          "text": [
            "mời nhập phần tử của x  2\n",
            "x 1 = 2.0\n",
            "mời nhập phần tử của x  3\n",
            "x 2 = 3.0\n",
            "mời nhập phần tử của x  3\n",
            "x 3 = 3.0\n",
            "mời nhập phần tử của x  2\n",
            "x 4 = 2.0\n",
            "mời nhập phần tử của x  1\n",
            "x 5 = 1.0\n",
            "mời nhập phần tử của x  4\n",
            "x 6 = 4.0\n",
            "mời nhập phần tử của x  5\n",
            "x 7 = 5.0\n",
            "X = [2.0, 3.0, 3.0, 2.0, 1.0, 4.0, 5.0]\n"
          ]
        }
      ],
      "source": [
        "X=[]\n",
        "for i in range(0,7) :\n",
        "  i+=1\n",
        "  x = float(input(\"mời nhập phần tử của x  \"))\n",
        "  print(\"x\",i,\"=\",x)\n",
        "  X.append(x)\n",
        "\n",
        "print(\"X =\",X)"
      ]
    },
    {
      "cell_type": "markdown",
      "source": [
        "Bài 2: Thay vì phải nhập dữ liệu bằng tay, chúng ta có thể sinh ngẫu nhiên giá trị cho từng phần tử xi bằng cách sử dụng thư viện random.\n",
        "\n",
        "Hãy viết chương trình sinh giá trị ngẫu nhiên cho vector x ∈ R^30 với xi ∈ N và xi ∈ [−10, 10].\n",
        "\n",
        "Tham khảo hàm sinh ngẫu nhiên số nguyên. In kết quả ra màn hình.\n"
      ],
      "metadata": {
        "id": "ObSd4wOHE0-o"
      }
    },
    {
      "cell_type": "code",
      "source": [
        "X = []\n",
        "import random\n",
        "for i in range(0,30) :\n",
        "  i+=1\n",
        "  x = random.randint(-10, 10)\n",
        "  print(\"x\",i,\"=\",x)\n",
        "  X.append(x)\n",
        "  \n",
        "print(\"X =\",X)\n",
        "\n"
      ],
      "metadata": {
        "colab": {
          "base_uri": "https://localhost:8080/"
        },
        "id": "zDbNGLkE3Kfs",
        "outputId": "38d740a4-6d60-41dc-c825-48e637ce87b7"
      },
      "execution_count": 3,
      "outputs": [
        {
          "output_type": "stream",
          "name": "stdout",
          "text": [
            "x 1 = -10\n",
            "x 2 = -6\n",
            "x 3 = -10\n",
            "x 4 = -8\n",
            "x 5 = 10\n",
            "x 6 = -7\n",
            "x 7 = -4\n",
            "x 8 = -2\n",
            "x 9 = -1\n",
            "x 10 = -5\n",
            "x 11 = 10\n",
            "x 12 = 4\n",
            "x 13 = 9\n",
            "x 14 = 3\n",
            "x 15 = -6\n",
            "x 16 = 9\n",
            "x 17 = -8\n",
            "x 18 = -10\n",
            "x 19 = -7\n",
            "x 20 = 0\n",
            "x 21 = 2\n",
            "x 22 = 4\n",
            "x 23 = 5\n",
            "x 24 = 10\n",
            "x 25 = -2\n",
            "x 26 = 2\n",
            "x 27 = 9\n",
            "x 28 = -4\n",
            "x 29 = -9\n",
            "x 30 = -8\n",
            "X = [-10, -6, -10, -8, 10, -7, -4, -2, -1, -5, 10, 4, 9, 3, -6, 9, -8, -10, -7, 0, 2, 4, 5, 10, -2, 2, 9, -4, -9, -8]\n"
          ]
        }
      ]
    },
    {
      "cell_type": "markdown",
      "source": [
        "Bài 3: Tương tự bài 2, hãy viết chương trình sinh ngẫu nhiên giá trị cho vector x ∈ R^30 với\n",
        "xi ∈ [−5.7, 6.9] và in kết quả ra màn hình.\n",
        "\n",
        "Tham khảo hàm sinh ngẫu nhiên số thực.\n"
      ],
      "metadata": {
        "id": "Ztj41GMrFVey"
      }
    },
    {
      "cell_type": "code",
      "source": [
        "X = []\n",
        "import random\n",
        "for i in range(0,30) :\n",
        "  i+=1\n",
        "  n =(-5.6,6.9)\n",
        "  x = random.uniform(-5.7,6.9)\n",
        "  print(\"x\",i,\"=\",x)\n",
        "  X.append(x)\n",
        "print(\"X =\",X)"
      ],
      "metadata": {
        "id": "wjLT8hgwV0kT",
        "colab": {
          "base_uri": "https://localhost:8080/"
        },
        "outputId": "d9c06662-a4b0-4a96-b58e-82f49e330227"
      },
      "execution_count": 4,
      "outputs": [
        {
          "output_type": "stream",
          "name": "stdout",
          "text": [
            "x 1 = 4.0609706457513335\n",
            "x 2 = 3.1188506749431317\n",
            "x 3 = 1.4943564775426363\n",
            "x 4 = 5.160341595740165\n",
            "x 5 = -3.1052603337812963\n",
            "x 6 = 0.223033843415954\n",
            "x 7 = 0.6674419404411367\n",
            "x 8 = 6.5339172723233725\n",
            "x 9 = 1.5069437659542322\n",
            "x 10 = -1.0066278705659482\n",
            "x 11 = 4.9344772418571585\n",
            "x 12 = 4.013496125843942\n",
            "x 13 = -1.369214043431949\n",
            "x 14 = -0.5979823158972515\n",
            "x 15 = -4.909067781988263\n",
            "x 16 = 5.863771778169171\n",
            "x 17 = 0.5491407504177728\n",
            "x 18 = -5.0733758830873334\n",
            "x 19 = -0.5549268218889898\n",
            "x 20 = -2.1842073757239504\n",
            "x 21 = 6.397231168295478\n",
            "x 22 = 2.834362766670881\n",
            "x 23 = -4.324776744515632\n",
            "x 24 = -1.6726089349523958\n",
            "x 25 = 1.0118967452010885\n",
            "x 26 = 6.167361334919227\n",
            "x 27 = 3.1146814653086023\n",
            "x 28 = -4.0342813444756676\n",
            "x 29 = -5.0629721234517495\n",
            "x 30 = -3.038730740475074\n",
            "X = [4.0609706457513335, 3.1188506749431317, 1.4943564775426363, 5.160341595740165, -3.1052603337812963, 0.223033843415954, 0.6674419404411367, 6.5339172723233725, 1.5069437659542322, -1.0066278705659482, 4.9344772418571585, 4.013496125843942, -1.369214043431949, -0.5979823158972515, -4.909067781988263, 5.863771778169171, 0.5491407504177728, -5.0733758830873334, -0.5549268218889898, -2.1842073757239504, 6.397231168295478, 2.834362766670881, -4.324776744515632, -1.6726089349523958, 1.0118967452010885, 6.167361334919227, 3.1146814653086023, -4.0342813444756676, -5.0629721234517495, -3.038730740475074]\n"
          ]
        }
      ]
    },
    {
      "cell_type": "markdown",
      "source": [
        "Bài 4: Phép nhân 1 đại lượng vô hướng α với 1 vector x được định nghĩa là:\n",
        "\n",
        "α . x = α[x0; x1; ... ; xn−1] = [αx0; αx1; ... ; αxn−1]\n",
        "\n",
        "Hãy viết chương trình thực hiện phép nhân này với số thực α nhập từ bàn phím, x ∈ R^10 được sinh ngẫu nhiên.\n",
        "\n",
        "Kết quả xuất ra màn hình.\n"
      ],
      "metadata": {
        "id": "3guTd4jaFthb"
      }
    },
    {
      "cell_type": "code",
      "source": [
        "import numpy as np\n",
        "import random\n",
        "X=[]\n",
        "a = float(input(\"mời nhập số thực a =\"))\n",
        "\n",
        "for i in range(0,10) :\n",
        "  i+=1\n",
        "  x = random.randint(0,100)\n",
        "  X.append(x)\n",
        "print(\"X =\",X)\n",
        "\n",
        "X1 = np.array(X)\n",
        "t = a*X1\n",
        "print(a,\"*\",X1,\"=\",t)"
      ],
      "metadata": {
        "colab": {
          "base_uri": "https://localhost:8080/"
        },
        "id": "MvaHK5CpArrF",
        "outputId": "928807c5-db57-465f-c867-a9e56c939c3f"
      },
      "execution_count": 5,
      "outputs": [
        {
          "output_type": "stream",
          "name": "stdout",
          "text": [
            "mời nhập số thực a =4.6\n",
            "X = [83, 25, 69, 57, 14, 6, 13, 21, 68, 29]\n",
            "4.6 * [83 25 69 57 14  6 13 21 68 29] = [381.8 115.  317.4 262.2  64.4  27.6  59.8  96.6 312.8 133.4]\n"
          ]
        }
      ]
    },
    {
      "cell_type": "markdown",
      "source": [
        "Bài 5: Phép cộng của 2 vector x, y ∈ R^n được định nghĩa là\n",
        "\n",
        "x + y = [x0 + yo; x1 + y1; ... ; xn−1 + yn−1]\n",
        "\n",
        "Hãy viết chương trình thực hiện phép cộng và phép trừ 2 vector x, y ∈ R^15. \n",
        "\n",
        "In kết quả ra màn hình.\n"
      ],
      "metadata": {
        "id": "3gc81_5JGMQz"
      }
    },
    {
      "cell_type": "code",
      "source": [
        "import random \n",
        "x1 = []\n",
        "x2 = []\n",
        "for i in range(0,15):\n",
        "    i+=1\n",
        "    x=random.randint(0,1000 )\n",
        "    x4=random.randint(0,1000 )\n",
        "    x1.append(x)\n",
        "    x2.append(x4)\n",
        "print(x1)\n",
        "print(x2)\n",
        "ư1 = np.array(x1)\n",
        "ư2 = np.array(x2)\n",
        "\n",
        "t = ư1+ ư2\n",
        "a = ư1- ư2\n",
        "print(t,\"\\n\",a)"
      ],
      "metadata": {
        "colab": {
          "base_uri": "https://localhost:8080/"
        },
        "id": "SwuYW8oFNfBx",
        "outputId": "86e1750b-17b7-4779-c62a-e866f47eeb93"
      },
      "execution_count": 6,
      "outputs": [
        {
          "output_type": "stream",
          "name": "stdout",
          "text": [
            "[772, 283, 408, 202, 148, 556, 841, 265, 360, 226, 346, 917, 83, 582, 817]\n",
            "[358, 388, 644, 522, 101, 902, 254, 873, 190, 944, 780, 340, 754, 522, 914]\n",
            "[1130  671 1052  724  249 1458 1095 1138  550 1170 1126 1257  837 1104\n",
            " 1731] \n",
            " [ 414 -105 -236 -320   47 -346  587 -608  170 -718 -434  577 -671   60\n",
            "  -97]\n"
          ]
        }
      ]
    },
    {
      "cell_type": "markdown",
      "source": [
        "Bài 6: Phép nhân elementwise multiplication của 2 vector x, y ∈ R^n được định nghĩa là:\n",
        "\n",
        "x°y = [x0; x1; ... ; xn−1] ∙ [y0; y1; ... ; yn−1] = [x0. y0; x1. y1; ... ; xn−1. yn−1]\n",
        "\n",
        "Hãy viết chương trình thực hiện sinh ngẫu nhiên 2 vector x, y ∈ R^10 và thực hiện phép nhân elementwise multiplication x°y và in kết quả ra màn hình."
      ],
      "metadata": {
        "id": "JiaCiMNZGioc"
      }
    },
    {
      "cell_type": "code",
      "source": [
        "x1 = []\n",
        "x2 = []\n",
        "for i in range(0,15):\n",
        "    i+=1\n",
        "    x=random.randint(0,10 )\n",
        "    x4=random.randint(0,10 )\n",
        "    x1.append(x)\n",
        "    x2.append(x4)\n",
        "print(x1)\n",
        "print(x2)\n",
        "ư1 = np.array(x1)\n",
        "ư2 = np.array(x2)\n",
        "print(np.multiply(ư1,ư2))"
      ],
      "metadata": {
        "colab": {
          "base_uri": "https://localhost:8080/"
        },
        "id": "qdz4az302nCE",
        "outputId": "a02588f5-3704-4626-dec0-0093f02e0430"
      },
      "execution_count": 16,
      "outputs": [
        {
          "output_type": "stream",
          "name": "stdout",
          "text": [
            "[10, 7, 0, 0, 7, 5, 10, 0, 5, 4, 0, 5, 2, 2, 4]\n",
            "[10, 1, 6, 6, 10, 2, 3, 1, 9, 10, 7, 2, 0, 2, 2]\n",
            "[100   7   0   0  70  10  30   0  45  40   0  10   0   4   8]\n"
          ]
        }
      ]
    },
    {
      "cell_type": "markdown",
      "source": [
        "Bài 7: Tích vô hướng của 2 vector x, y ∈ R^n được định nghĩa là\n",
        "\n",
        "x. y = ∑xi. yi = x0. y0 + x1. y1 + xn−1. yn−1\n",
        "n−1\n",
        "\n",
        "i=0\n",
        "\n",
        "Hãy viết chương trình thực hiện tính tích vô hướng 2 vector x, y ∈ R^10 và in kết quả ra màn hình.\n"
      ],
      "metadata": {
        "id": "eqhBxDWBHY5K"
      }
    },
    {
      "cell_type": "code",
      "source": [
        "import random\n",
        "x = []\n",
        "y = []\n",
        "for i in range(15):\n",
        "    x1=random.randint(0,10 )\n",
        "    y1=random.randint(0,10 )\n",
        "    x.append(x1)\n",
        "    y.append(y1)\n",
        "print(x)\n",
        "print(y)\n",
        "ư1 = np.array(x)\n",
        "ư2 = np.array(y)\n",
        "t = ư1*ư2\n",
        "print(t,\"\\n\")"
      ],
      "metadata": {
        "colab": {
          "base_uri": "https://localhost:8080/"
        },
        "id": "xBrZ9A1ihe3g",
        "outputId": "5d8e0d30-7f87-4fbb-8484-c54168eae72f"
      },
      "execution_count": 15,
      "outputs": [
        {
          "output_type": "stream",
          "name": "stdout",
          "text": [
            "[1, 3, 10, 0, 5, 1, 7, 0, 8, 5, 9, 10, 0, 4, 10]\n",
            "[7, 8, 1, 1, 5, 6, 7, 10, 6, 1, 5, 8, 4, 4, 9]\n",
            "[ 7 24 10  0 25  6 49  0 48  5 45 80  0 16 90] \n",
            "\n"
          ]
        }
      ]
    },
    {
      "cell_type": "markdown",
      "source": [
        "Bài 8: Một ma trận A ∈ R\n",
        "m×n (hay còn gọi là 1 tensor hạng 2) với aij ∈ R\n",
        "Hãy viết chương trình sinh ngẫu nhiên ma trận A ∈ R\n",
        "3×5. \n",
        "\n",
        "In ma trận A ra màn hình và in phần tử a23 ra màn hình.\n"
      ],
      "metadata": {
        "id": "Ehjlzu54IDq1"
      }
    },
    {
      "cell_type": "code",
      "source": [
        "import numpy as np\n",
        "x1 = []\n",
        "for i in range(0,15):\n",
        "    i+=1\n",
        "    x=random.randint(0,10 )\n",
        "    x1.append(x) \n",
        "print(x1)\n",
        "ư1 = np.array(x1)\n",
        "x=ư1.reshape(3,5)\n",
        "print(x)"
      ],
      "metadata": {
        "colab": {
          "base_uri": "https://localhost:8080/"
        },
        "id": "M7QfDd3Y4tWf",
        "outputId": "4368f716-2bc2-4cad-ef7c-55ffea1978a0"
      },
      "execution_count": 9,
      "outputs": [
        {
          "output_type": "stream",
          "name": "stdout",
          "text": [
            "[8, 4, 2, 7, 9, 5, 3, 0, 7, 1, 1, 8, 4, 3, 10]\n",
            "[[ 8  4  2  7  9]\n",
            " [ 5  3  0  7  1]\n",
            " [ 1  8  4  3 10]]\n"
          ]
        }
      ]
    },
    {
      "cell_type": "markdown",
      "source": [
        "Bài 9: Phép nhân vô hướng với ma trận A được định nghĩa là:\n",
        "α. A   với α, aij ∈ R\n",
        "\n",
        "Hãy viết chương trình tính tích nêu trên với α là số thực nhập vào từ bàn phím và ma trận\n",
        "A ∈ R\n",
        "3×5 được sinh ngẫu nhiên. \n",
        "\n",
        "In kết quả ra màn hình.\n"
      ],
      "metadata": {
        "id": "turYxb4eIyyk"
      }
    },
    {
      "cell_type": "code",
      "source": [
        "import numpy as np\n",
        "x1 = []\n",
        "for i in range(0,15):\n",
        "    i+=1\n",
        "    x=random.randint(0,10 )\n",
        "    x1.append(x) \n",
        "print(x1)\n",
        "a = float(input())\n",
        "ư1 = np.array(x1)\n",
        "x=ư1.reshape(3,5)\n",
        "t = a*x\n",
        "print(x)\n",
        "print(t)\n"
      ],
      "metadata": {
        "colab": {
          "base_uri": "https://localhost:8080/"
        },
        "id": "ziCbSnvh5oLq",
        "outputId": "86e6d928-e32e-4ef3-fcd3-c30cd0a62622"
      },
      "execution_count": 10,
      "outputs": [
        {
          "output_type": "stream",
          "name": "stdout",
          "text": [
            "[8, 8, 10, 1, 9, 9, 2, 6, 4, 3, 4, 4, 1, 2, 10]\n",
            "4\n",
            "[[ 8  8 10  1  9]\n",
            " [ 9  2  6  4  3]\n",
            " [ 4  4  1  2 10]]\n",
            "[[32. 32. 40.  4. 36.]\n",
            " [36.  8. 24. 16. 12.]\n",
            " [16. 16.  4.  8. 40.]]\n"
          ]
        }
      ]
    },
    {
      "cell_type": "markdown",
      "source": [
        "Bài 10: Phép cộng 2 ma trận A, B ∈ R m×n được định nghĩa là:\n",
        "\n",
        "A + B \n",
        "Hãy viết chương trình tính phép cộng 2 ma trận A, B ∈ R3×5 và in kết quả ra màn hình."
      ],
      "metadata": {
        "id": "qxXxV5HEJKZ4"
      }
    },
    {
      "cell_type": "code",
      "source": [
        "x1 = []\n",
        "x2 = []\n",
        "for i in range(0,15):\n",
        "    i+=1\n",
        "    x=random.randint(0,10 )\n",
        "    x4=random.randint(0,10 )\n",
        "    x1.append(x)\n",
        "    x2.append(x4)\n",
        "print(x1)\n",
        "print(x2)\n",
        "ư1 = np.array(x1)\n",
        "ư2 = np.array(x2)\n",
        "x=ư1.reshape(3,5)\n",
        "x1=ư2.reshape(3,5)\n",
        "t=x+x1\n",
        "print(x,\"\\n\",x1)\n",
        "print(t,\"\\n\")"
      ],
      "metadata": {
        "colab": {
          "base_uri": "https://localhost:8080/"
        },
        "id": "KCmSD_jx64iq",
        "outputId": "ea8115a0-d9fd-497c-cebe-0901d92ea74c"
      },
      "execution_count": 11,
      "outputs": [
        {
          "output_type": "stream",
          "name": "stdout",
          "text": [
            "[9, 9, 4, 7, 6, 3, 1, 6, 6, 8, 1, 10, 7, 5, 4]\n",
            "[2, 0, 9, 4, 10, 10, 7, 3, 6, 6, 1, 2, 2, 0, 5]\n",
            "[[ 9  9  4  7  6]\n",
            " [ 3  1  6  6  8]\n",
            " [ 1 10  7  5  4]] \n",
            " [[ 2  0  9  4 10]\n",
            " [10  7  3  6  6]\n",
            " [ 1  2  2  0  5]]\n",
            "[[11  9 13 11 16]\n",
            " [13  8  9 12 14]\n",
            " [ 2 12  9  5  9]] \n",
            "\n"
          ]
        }
      ]
    },
    {
      "cell_type": "markdown",
      "source": [
        "Bài 11: Phép nhân 2 ma trận A ∈ Rm×k và B ∈ Rk×n được định nghĩa là:\n",
        "\n",
        "C = A. B ∈ Rm×n\n",
        "\n",
        "\n",
        "Hãy viết chương trình tính tích 2 ma trận A ∈ R3×4 và B ∈ R4×5"
      ],
      "metadata": {
        "id": "a_BqHyvpJdtv"
      }
    },
    {
      "cell_type": "code",
      "source": [
        "x1 = []\n",
        "x2 = []\n",
        "for i in range(12):\n",
        "    x=random.randint(0,10 )\n",
        "    x1.append(x)\n",
        "for i in range(20):\n",
        "    i+=1\n",
        "    x4=random.randint(0,10 )\n",
        "    x2.append(x4)\n",
        "print(x1)\n",
        "print(x2)\n",
        "ư1 = np.array(x1)\n",
        "ư2 = np.array(x2)\n",
        "x=ư1.reshape(3,4)\n",
        "x1=ư2.reshape(4,5)\n",
        "t=x@x1\n",
        "print(x,\"\\n\",x1)\n",
        "print(t,\"\\n\")"
      ],
      "metadata": {
        "colab": {
          "base_uri": "https://localhost:8080/"
        },
        "id": "4EaoMDBu7pug",
        "outputId": "021085eb-1ce9-4e4f-a2b9-d08465d8fe49"
      },
      "execution_count": 13,
      "outputs": [
        {
          "output_type": "stream",
          "name": "stdout",
          "text": [
            "[8, 2, 9, 9, 2, 0, 1, 2, 2, 9, 3, 4]\n",
            "[2, 7, 7, 2, 6, 4, 9, 0, 7, 10, 7, 7, 2, 3, 2, 1, 2, 1, 1, 10]\n",
            "[[8 2 9 9]\n",
            " [2 0 1 2]\n",
            " [2 9 3 4]] \n",
            " [[ 2  7  7  2  6]\n",
            " [ 4  9  0  7 10]\n",
            " [ 7  7  2  3  2]\n",
            " [ 1  2  1  1 10]]\n",
            "[[ 96 155  83  66 176]\n",
            " [ 13  25  18   9  34]\n",
            " [ 65 124  24  80 148]] \n",
            "\n"
          ]
        }
      ]
    }
  ]
}