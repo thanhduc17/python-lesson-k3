{
  "nbformat": 4,
  "nbformat_minor": 0,
  "metadata": {
    "colab": {
      "provenance": [],
      "authorship_tag": "ABX9TyMHgPJ6/weWh5ijHYb1GPLU",
      "include_colab_link": true
    },
    "kernelspec": {
      "name": "python3",
      "display_name": "Python 3"
    },
    "language_info": {
      "name": "python"
    }
  },
  "cells": [
    {
      "cell_type": "markdown",
      "metadata": {
        "id": "view-in-github",
        "colab_type": "text"
      },
      "source": [
        "<a href=\"https://colab.research.google.com/github/thanhduc17/python-lesson-k3/blob/main/bt_SET.ipynb\" target=\"_parent\"><img src=\"https://colab.research.google.com/assets/colab-badge.svg\" alt=\"Open In Colab\"/></a>"
      ]
    },
    {
      "cell_type": "code",
      "execution_count": 8,
      "metadata": {
        "colab": {
          "base_uri": "https://localhost:8080/"
        },
        "id": "qjsPPrnEm1xM",
        "outputId": "dd7119ad-5a6b-4d44-cd5f-2c9eaec1bae9"
      },
      "outputs": [
        {
          "output_type": "stream",
          "name": "stdout",
          "text": [
            "A = {'NNLT Python', 'Đại số tuyến tính', 'Thể dục', 'Tiếng Anh chuyên ngành'} \n",
            "B = {'Tối ưu hóa', 'Computer vision', 'Học Máy', 'Natural Language Processing', 'Đại số tuyến tính', 'Recommender Systems', 'Học sâu', 'NNLT Python'}\n",
            "HỢP GIỮA A VÀ B LÀ: {'Tối ưu hóa', 'Computer vision', 'Thể dục', 'Tiếng Anh chuyên ngành', 'Học Máy', 'Natural Language Processing', 'Đại số tuyến tính', 'Recommender Systems', 'Học sâu', 'NNLT Python'}\n",
            "GIAO GIỮA A VÀ B LÀ: {'NNLT Python', 'Đại số tuyến tính'}\n",
            "HIỆU GIỮA A VÀ B LÀ: {'Tiếng Anh chuyên ngành', 'Thể dục'}\n",
            "HIỆU GIỮA A VÀ B LÀ: {'Tối ưu hóa', 'Computer vision', 'Học Máy', 'Natural Language Processing', 'Recommender Systems', 'Học sâu'}\n",
            "x = [1, 1, 1, 2, 2, 3, 3, 3, 4, 5, 6, 7]\n",
            "SET(x) = {1, 2, 3, 4, 5, 6, 7}\n"
          ]
        }
      ],
      "source": [
        "A = {\"NNLT Python\", \"Đại số tuyến tính\", \"Tiếng Anh chuyên ngành\", \"Thể dục\"}\n",
        "B = {\"NNLT Python\", \"Đại số tuyến tính\", \"Tối ưu hóa\", \"Học Máy\", \"Học sâu\", \"Computer vision\", \"Natural Language Processing\", \"Recommender Systems\"}\n",
        "\n",
        "# 2)IN giá trị của A,B ra màn hình\n",
        "\n",
        "print(\"A =\",A,\"\\nB =\",B)\n",
        "\n",
        "# 3) Thực hiện phép A ∪ B và in kết quả là màn hình\n",
        "\n",
        "hop = A.union(B)\n",
        "print(\"HỢP GIỮA A VÀ B LÀ:\",hop)\n",
        "\n",
        "#4) Thực hiện phép A ∩ B và in kết quả là màn hình\n",
        "\n",
        "giao = A.intersection(B)\n",
        "print(\"GIAO GIỮA A VÀ B LÀ:\",giao)\n",
        "\n",
        "#5) Thực hiện phép A ∖ B vÀ B ∖ A và in kết quả là màn hình\n",
        "\n",
        "hieu = A.difference(B)\n",
        "print(\"HIỆU GIỮA A VÀ B LÀ:\",hieu)\n",
        "\n",
        "hieu1 = B.difference(A)\n",
        "print(\"HIỆU GIỮA A VÀ B LÀ:\",hieu1)\n",
        "\n",
        "#6) Cho cấu trúc list sau: x = [1, 1, 1, 2, 2, 3, 3 ,3, 4 ,5 ,6, 7]. Hãy in x ra màn hình.\n",
        "#Sau đó chuyển x thành cấu trúc kiểu set và in kết quả ra màn hình\n",
        "\n",
        "x = [1, 1, 1, 2, 2, 3, 3 ,3, 4 ,5 ,6, 7]\n",
        "print(\"x =\",x)\n",
        "setx = set(x)\n",
        "print(\"SET(x) =\",setx)\n"
      ]
    },
    {
      "cell_type": "code",
      "source": [
        "2) Hãy in tập A và tập B ra màn hình\n",
        "3) Thực hiện phép A ∪ B và in kết quả là màn hình\n",
        "4) Thực hiện phép A ∩ B và in kết quả là màn hình\n",
        "5) Thực hiện phép A ∖ B và B ∖ A và in kết quả là màn hình\n",
        "6) Cho cấu trúc list sau: x = [1, 1, 1, 2, 2, 3, 3 ,3, 4 ,5 ,6, 7]. Hãy in x ra màn hình. Sau đó chuyển\n",
        "x thành cấu trúc kiểu set và in kết quả ra màn hình"
      ],
      "metadata": {
        "id": "uY7rqL2ari16"
      },
      "execution_count": null,
      "outputs": []
    }
  ]
}