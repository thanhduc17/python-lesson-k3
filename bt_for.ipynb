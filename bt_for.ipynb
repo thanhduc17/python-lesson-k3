{
  "nbformat": 4,
  "nbformat_minor": 0,
  "metadata": {
    "colab": {
      "provenance": [],
      "collapsed_sections": [],
      "authorship_tag": "ABX9TyPR/R/iaqIaYqVwl8z1vgYi",
      "include_colab_link": true
    },
    "kernelspec": {
      "name": "python3",
      "display_name": "Python 3"
    },
    "language_info": {
      "name": "python"
    }
  },
  "cells": [
    {
      "cell_type": "markdown",
      "metadata": {
        "id": "view-in-github",
        "colab_type": "text"
      },
      "source": [
        "<a href=\"https://colab.research.google.com/github/thanhduc17/python-lesson-k3/blob/main/bt_for.ipynb\" target=\"_parent\"><img src=\"https://colab.research.google.com/assets/colab-badge.svg\" alt=\"Open In Colab\"/></a>"
      ]
    },
    {
      "cell_type": "markdown",
      "source": [
        "Bài 1:\n",
        "\n",
        "\n",
        "1.S = 1 + 2 + 3 + ⋯ + n\n",
        " với 0 < n ∈ N"
      ],
      "metadata": {
        "id": "m_bTe9QdbUci"
      }
    },
    {
      "cell_type": "code",
      "source": [
        "n = int(input(\"nhập một số nguyên :\"))\n",
        "s = 1\n",
        "for i in range (1,n):\n",
        "      i=i+1\n",
        "      s = s + i\n",
        "      print(i,s) \n",
        "print (\"Tổng của 1 đến \",n,\"là:\",s)"
      ],
      "metadata": {
        "id": "kRRxuSX5avKN",
        "colab": {
          "base_uri": "https://localhost:8080/"
        },
        "outputId": "672da430-772e-4563-96e8-fe112baff2dd"
      },
      "execution_count": 13,
      "outputs": [
        {
          "output_type": "stream",
          "name": "stdout",
          "text": [
            "nhập một số nguyên :12\n",
            "2 3\n",
            "3 6\n",
            "4 10\n",
            "5 15\n",
            "6 21\n",
            "7 28\n",
            "8 36\n",
            "9 45\n",
            "10 55\n",
            "11 66\n",
            "12 78\n",
            "Tổng của 1 đến  12 là: 78\n"
          ]
        }
      ]
    },
    {
      "cell_type": "markdown",
      "source": [
        "2 .S = 1 + 3 + 5 + ⋯ + n, với 0 < n ∈ N và n là số chẵn\n"
      ],
      "metadata": {
        "id": "PxrRNIvtz6J7"
      }
    },
    {
      "cell_type": "code",
      "source": [
        "n = abs(int(input(\"nhập một số nguyên :\")))\n",
        "s = 0\n",
        "for i in range (1,n,2):\n",
        "  i=i+1\n",
        "  s = s + i\n",
        "  print(i,s)\n",
        "print (\"Tổng các số chẵn từ 1 đến \",n,\"là:\",s)"
      ],
      "metadata": {
        "colab": {
          "base_uri": "https://localhost:8080/"
        },
        "id": "Tfnoup-dgNhQ",
        "outputId": "4359fa2a-6a64-4ef1-ab99-a79edd532f55"
      },
      "execution_count": 18,
      "outputs": [
        {
          "output_type": "stream",
          "name": "stdout",
          "text": [
            "nhập một số nguyên :4\n",
            "2 2\n",
            "4 6\n",
            "Tổng các số chẵn từ 1 đến  4 là: 6\n"
          ]
        }
      ]
    },
    {
      "cell_type": "markdown",
      "source": [
        "3. \n",
        "S = 2 + 4 + 6 + ... + n, với 0 < n ∈ N và n là số lẽ\n"
      ],
      "metadata": {
        "id": "xDFm1P6-z89n"
      }
    },
    {
      "cell_type": "code",
      "source": [
        "n = abs(int(input(\"nhập một số nguyên :\")))\n",
        "s = 0\n",
        "for i in range (0,n,2):\n",
        "  i=i+1\n",
        "  s = s + i\n",
        "  print(i,s)\n",
        "print (\"Tổng các số lẽ từ 1 đến \",n,\"là:\",s)"
      ],
      "metadata": {
        "colab": {
          "base_uri": "https://localhost:8080/"
        },
        "id": "aX5uLWUUy-rl",
        "outputId": "34ae8cea-9fb1-4e1e-b0cf-a3caf0ed36ce"
      },
      "execution_count": null,
      "outputs": [
        {
          "output_type": "stream",
          "name": "stdout",
          "text": [
            "nhập một số nguyên :9\n",
            "1 1\n",
            "3 4\n",
            "5 9\n",
            "7 16\n",
            "9 25\n",
            "Tổng các số lẽ từ 1 đến  9 là: 25\n"
          ]
        }
      ]
    },
    {
      "cell_type": "markdown",
      "source": [
        "4. S = ln(1) + ln(2) + ... + ln(n), với n ∈ N và n > 0\n"
      ],
      "metadata": {
        "id": "KESc5pFv0Eh5"
      }
    },
    {
      "cell_type": "code",
      "source": [
        "from math import log\n",
        "n = abs(int(input(\"nhập một số nguyên :\")))\n",
        "s = log(1)\n",
        "for i in range (1,n):\n",
        "  i=i+1\n",
        "  s = s + log(i)\n",
        "  print(i,s)\n",
        "print (\"Tổng của 1 đến \",n,\"là:\",s)"
      ],
      "metadata": {
        "colab": {
          "base_uri": "https://localhost:8080/"
        },
        "id": "ETO9aGAa0HnG",
        "outputId": "f36faeab-c61b-4646-b5a0-0ceba321753b"
      },
      "execution_count": null,
      "outputs": [
        {
          "output_type": "stream",
          "name": "stdout",
          "text": [
            "nhập một số nguyên :3\n",
            "2 0.6931471805599453\n",
            "3 1.791759469228055\n",
            "Tổng của 1 đến  3 là: 1.791759469228055\n"
          ]
        }
      ]
    },
    {
      "cell_type": "markdown",
      "source": [
        "\n",
        "\n",
        "5.\n",
        "S = 1 +\n",
        "1/2\n",
        "+\n",
        "1/3+ ... +1/n\n",
        ", với n ∈ N và n > 0"
      ],
      "metadata": {
        "id": "EaNHS7x20IYR"
      }
    },
    {
      "cell_type": "code",
      "source": [
        "n = abs(int(input(\"nhập một số nguyên :\")))\n",
        "s = 1\n",
        "for i in range (1,n):\n",
        "  i=i+1\n",
        "  s = s + 1/i\n",
        "  print(i)\n",
        "print (\"Tổng của 1 đến \",n,\"là:\",s)"
      ],
      "metadata": {
        "colab": {
          "base_uri": "https://localhost:8080/"
        },
        "id": "CH-RdqJqxTN4",
        "outputId": "f22f119d-42ec-457d-e6c4-311a4ee8834b"
      },
      "execution_count": null,
      "outputs": [
        {
          "output_type": "stream",
          "name": "stdout",
          "text": [
            "nhập một số nguyên :4\n",
            "2\n",
            "3\n",
            "4\n",
            "Tổng của 1 đến  4 là: 2.083333333333333\n"
          ]
        }
      ]
    },
    {
      "cell_type": "code",
      "source": [],
      "metadata": {
        "id": "Vdcxa4WNxTL8"
      },
      "execution_count": null,
      "outputs": []
    },
    {
      "cell_type": "markdown",
      "source": [
        "Bài 2:"
      ],
      "metadata": {
        "id": "3H9MdP3x0wdl"
      }
    },
    {
      "cell_type": "markdown",
      "source": [
        "1. Tính giai thừa của số n nguyên dương, n! = 1 × 2 × 3 × ... × n\n"
      ],
      "metadata": {
        "id": "7lzoJHXwlInV"
      }
    },
    {
      "cell_type": "code",
      "execution_count": null,
      "metadata": {
        "colab": {
          "base_uri": "https://localhost:8080/"
        },
        "id": "FCwMqgvZamEA",
        "outputId": "1d003aa7-ae08-4026-dbd3-aa90bcfbdd95"
      },
      "outputs": [
        {
          "output_type": "stream",
          "name": "stdout",
          "text": [
            "nhập một số bất kỳ :3\n",
            "2 2\n",
            "3 6\n",
            "giai thừa của 3 là: 6\n"
          ]
        }
      ],
      "source": [
        "n = abs(int(input(\"nhập một số bất kỳ :\")))\n",
        "s = 1\n",
        "for i in range (1,n):\n",
        "  i=i+1\n",
        "  s = s * i\n",
        "  print(i,s)\n",
        "print (\"giai thừa của\",n,\"là:\",s)"
      ]
    },
    {
      "cell_type": "markdown",
      "source": [
        "P =\n",
        "1/n!\n",
        "\n",
        ", với n ∈ N và n > 0\n"
      ],
      "metadata": {
        "id": "F1FL6DSy1mMg"
      }
    },
    {
      "cell_type": "code",
      "source": [
        "n = abs(int(input(\"nhập một số bất kỳ :\")))\n",
        "s = 1\n",
        "for i in range (0,n):\n",
        "  i=i+1\n",
        "  s =s * i\n",
        "  P=1/s\n",
        "  print(i,s,P)\n",
        "print (\"giai thừa của\",n,\"là:\",P)"
      ],
      "metadata": {
        "colab": {
          "base_uri": "https://localhost:8080/"
        },
        "id": "ruCK9qeZ2H4o",
        "outputId": "555d65f9-0fa7-4e6b-bb37-4773712fa1ab"
      },
      "execution_count": 17,
      "outputs": [
        {
          "output_type": "stream",
          "name": "stdout",
          "text": [
            "nhập một số bất kỳ :4\n",
            "1 1 1.0\n",
            "2 2 0.5\n",
            "3 6 0.16666666666666666\n",
            "4 24 0.041666666666666664\n",
            "giai thừa của 4 là: 0.041666666666666664\n"
          ]
        }
      ]
    },
    {
      "cell_type": "markdown",
      "source": [
        "3. P = 1 × 3 × 5 × ... × n, với n ∈ N và n là số lẻ\n"
      ],
      "metadata": {
        "id": "u5Yg4GPY4v8J"
      }
    },
    {
      "cell_type": "code",
      "source": [
        "n = abs(int(input(\"nhập một số nguyên :\")))\n",
        "s = 1\n",
        "for i in range (0,n,2):\n",
        "  i=i+1\n",
        "  s = s * i\n",
        "  print(i,s)\n",
        "print (\"Tổng các số lẻ từ 1 đến \",n,\"là:\",s)"
      ],
      "metadata": {
        "colab": {
          "base_uri": "https://localhost:8080/"
        },
        "id": "cgaQaTMz4_0R",
        "outputId": "a1188b67-0477-4052-ab41-0dddf9121c09"
      },
      "execution_count": null,
      "outputs": [
        {
          "output_type": "stream",
          "name": "stdout",
          "text": [
            "nhập một số nguyên :6\n",
            "1 1\n",
            "3 3\n",
            "5 15\n",
            "Tổng các số chẵn từ 1 đến  6 là: 15\n"
          ]
        }
      ]
    },
    {
      "cell_type": "markdown",
      "source": [
        "\n",
        "\n",
        "4. P = 2 × 4 × 6 × ... × n, với n ∈ N và n là số chẵn\n",
        "\n",
        "\n"
      ],
      "metadata": {
        "id": "ihi7ueOs5AM8"
      }
    },
    {
      "cell_type": "code",
      "source": [
        "n = abs(int(input(\"nhập một số nguyên :\")))\n",
        "s = 1\n",
        "for i in range (1,n,2):\n",
        "  i=i+1\n",
        "  s = s * i\n",
        "  print(i,s)\n",
        "print (\"Tổng các số chẵn từ 1 đến \",n,\"là:\",s)"
      ],
      "metadata": {
        "colab": {
          "base_uri": "https://localhost:8080/"
        },
        "id": "cdkGyyY-4vb4",
        "outputId": "1909ba20-e880-412c-d4d6-0832eda431ef"
      },
      "execution_count": null,
      "outputs": [
        {
          "output_type": "stream",
          "name": "stdout",
          "text": [
            "nhập một số nguyên :8\n",
            "2 2\n",
            "4 8\n",
            "6 48\n",
            "8 384\n",
            "Tổng các số chẵn từ 1 đến  8 là: 384\n"
          ]
        }
      ]
    }
  ]
}