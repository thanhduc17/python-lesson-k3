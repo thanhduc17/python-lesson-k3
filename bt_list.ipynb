{
  "nbformat": 4,
  "nbformat_minor": 0,
  "metadata": {
    "colab": {
      "provenance": [],
      "authorship_tag": "ABX9TyMmJmt2aRS9Rp7nn3oy3K8w",
      "include_colab_link": true
    },
    "kernelspec": {
      "name": "python3",
      "display_name": "Python 3"
    },
    "language_info": {
      "name": "python"
    }
  },
  "cells": [
    {
      "cell_type": "markdown",
      "metadata": {
        "id": "view-in-github",
        "colab_type": "text"
      },
      "source": [
        "<a href=\"https://colab.research.google.com/github/thanhduc17/python-lesson-k3/blob/main/bt_list.ipynb\" target=\"_parent\"><img src=\"https://colab.research.google.com/assets/colab-badge.svg\" alt=\"Open In Colab\"/></a>"
      ]
    },
    {
      "cell_type": "code",
      "source": [
        "#1 x là kiểu list rỗng\n",
        "x = []\n",
        "\n",
        "#2 Thêm giá trị 18 vào x\n",
        "x.append ( 18 )\n",
        "print(\"x = \",x)\n",
        "\n",
        "#3 Thêm giá trị \"Hue\" vao x\n",
        "x.append ( \"Hue\" )\n",
        "print(\"x = \",x)\n",
        "\n",
        "#4 Tạo y \n",
        "y = [12,45,-1,-0.56,\"abc\"]\n",
        "\n",
        "#5 Thêm y vào x\n",
        "x.extend (y)\n",
        "print (\"x = \", x)\n",
        "\n",
        "#6 Xuất giá trị của x ra màn hình\n",
        "print (\" Giá trị của x = \", x)\n",
        "\n",
        "#7 In ra màn hình giá trị của phần tử cuối cùng và phần tử đầu tiên của x\n",
        "print (\" Phần tử đầu tiên của x la: \", x[0])\n",
        "print (\" Phần tử cuối cùng của x la: \", x[-1])\n",
        "\n",
        "\n",
        "#8 In ra màn hình giá trị của phần tử đầu tiên đến phần tử thứ 5 của x\n",
        "print (\" Phần tử đầu tiên đến phần tử thứ 5 của x là: \", x[:5])\n",
        "\n",
        "#9 In ra màn hình giá trị của phần từ thứ 3 đến cuối cùng của x\n",
        "print (\" phần tử thứ 3 đến phần tử cuối cùng của x la: \", x[2:])"
      ],
      "metadata": {
        "colab": {
          "base_uri": "https://localhost:8080/"
        },
        "id": "g2fsq_QLhUeB",
        "outputId": "519ff0b9-712a-479b-bda3-f40584dc647b"
      },
      "execution_count": 24,
      "outputs": [
        {
          "output_type": "stream",
          "name": "stdout",
          "text": [
            "x =  [18]\n",
            "x =  [18, 'Hue']\n",
            "x =  [18, 'Hue', 12, 45, -1, -0.56, 'abc']\n",
            " Giá trị của x =  [18, 'Hue', 12, 45, -1, -0.56, 'abc']\n",
            " Phần tử đầu tiên của x la:  18\n",
            " Phần tử cuối cùng của x la:  abc\n",
            " Phần tử đầu tiên đến phần tử thứ 5 của x là:  [18, 'Hue', 12, 45, -1]\n",
            " phần tử thứ 3 đến phần tử cuối cùng của x la:  [12, 45, -1, -0.56, 'abc']\n"
          ]
        }
      ]
    }
  ]
}