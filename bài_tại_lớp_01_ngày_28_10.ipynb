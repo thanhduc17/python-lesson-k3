{
  "nbformat": 4,
  "nbformat_minor": 0,
  "metadata": {
    "colab": {
      "provenance": [],
      "authorship_tag": "ABX9TyMGEGzdSyWEg36ulgfaTSqO",
      "include_colab_link": true
    },
    "kernelspec": {
      "name": "python3",
      "display_name": "Python 3"
    },
    "language_info": {
      "name": "python"
    }
  },
  "cells": [
    {
      "cell_type": "markdown",
      "metadata": {
        "id": "view-in-github",
        "colab_type": "text"
      },
      "source": [
        "<a href=\"https://colab.research.google.com/github/thanhduc17/python-lesson-k3/blob/main/b%C3%A0i_t%E1%BA%A1i_l%E1%BB%9Bp_01_ng%C3%A0y_28_10.ipynb\" target=\"_parent\"><img src=\"https://colab.research.google.com/assets/colab-badge.svg\" alt=\"Open In Colab\"/></a>"
      ]
    },
    {
      "cell_type": "markdown",
      "source": [
        "Bài 1: Viết chương trình tính giá trị của biểu thức Toán học sau (x1, x2 nhập vào từ bàn phím)\n",
        "\n",
        "(x1 + x2)/\n",
        " (x1 − x2)\n",
        " với x1, x2 ∈ R\n",
        "\n"
      ],
      "metadata": {
        "id": "-_dCO3qcJBfI"
      }
    },
    {
      "cell_type": "code",
      "execution_count": null,
      "metadata": {
        "colab": {
          "base_uri": "https://localhost:8080/"
        },
        "id": "LV83xi2cHizy",
        "outputId": "c5fc2464-f1f4-4e5a-b241-8656ad5d2293"
      },
      "outputs": [
        {
          "output_type": "stream",
          "name": "stdout",
          "text": [
            "mời bạn nhập x1,x2:\n",
            "x1 = 2\n",
            "x2 = 1\n",
            "giá trị của bt A là :  3.0\n"
          ]
        }
      ],
      "source": [
        "print(\"mời bạn nhập giá trị của x:\")\n",
        "x1 = float(input(\"x1 = \"))\n",
        "x2 = float(input(\"x2 = \"))\n",
        "# biểu thức toán học \n",
        "A = (x1 + x2)/(x1 - x2)\n",
        "\n",
        "print(\"giá trị của bt A là : \",A)\n"
      ]
    },
    {
      "cell_type": "markdown",
      "source": [
        "Bài 2: Viết chương trình tính giá trị của biểu thức Toán học sau (x1, x2, x3 nhập vào từ bàn phím)\n",
        "\n",
        "2x1 + 4x2 − 5x3 với xi ∈ R\n",
        "\n"
      ],
      "metadata": {
        "id": "WQW73_oYJarZ"
      }
    },
    {
      "cell_type": "code",
      "source": [
        "print(\"mời bạn nhập giá trị của x:\")\n",
        "x1 = float(input(\"x1 = \"))\n",
        "x2 = float(input(\"x2 = \"))\n",
        "x3 = float(input(\"x3 = \"))\n",
        "# biểu thức toán học \n",
        "B = 2*x1 + 4*x2 - 5*x3\n",
        "\n",
        "print(\"giá trị của bt A là : \",B)"
      ],
      "metadata": {
        "colab": {
          "base_uri": "https://localhost:8080/"
        },
        "id": "4lsyjx_KJlSN",
        "outputId": "eeb5d0d8-c905-4229-c643-850375921a61"
      },
      "execution_count": null,
      "outputs": [
        {
          "output_type": "stream",
          "name": "stdout",
          "text": [
            "mời bạn nhập giá trị của x:\n",
            "x1 = 1\n",
            "x2 = 2\n",
            "x3 = 3\n",
            "giá trị của bt A là :  -5.0\n"
          ]
        }
      ]
    },
    {
      "cell_type": "markdown",
      "source": [
        "Bài 3: Viết chương trình tính giá trị của biểu thức Toán học sau (x1, x2, x3 nhập vào từ bàn phím)\n",
        "\n",
        "1/\n",
        "(1 + e^(2x1+4x2−5x3))"
      ],
      "metadata": {
        "id": "Ok2YtN9A6acd"
      }
    },
    {
      "cell_type": "code",
      "source": [
        "x1 = float(input(\"x1 = \"))\n",
        "x2 = float(input(\"x2 = \"))\n",
        "x3 = float(input(\"x3 = \"))\n",
        "# biểu thức toán học \n",
        "T = 2*x1 + 4*x2 - 5*x3\n",
        "G = 1/(1 + e**T)\n",
        "\n",
        "print(\"giá trị của bt G là : \",G)"
      ],
      "metadata": {
        "colab": {
          "base_uri": "https://localhost:8080/"
        },
        "id": "2tThHhLm7Eh_",
        "outputId": "1376ddfe-3a99-4231-ff75-dee1dd3514a8"
      },
      "execution_count": null,
      "outputs": [
        {
          "output_type": "stream",
          "name": "stdout",
          "text": [
            "x1 = 1\n",
            "x2 = 2\n",
            "x3 = 1\n",
            "giá trị của bt G là :  0.006692850924284857\n"
          ]
        }
      ]
    },
    {
      "cell_type": "markdown",
      "source": [
        "Bài 4: Viết chương trình tính giá trị của biểu thức sau\n",
        "\n",
        "((\n",
        "x1 + x2)/\n",
        "(x1 − x2)\n",
        ") >\n",
        "1/\n",
        "(1 + e\n",
        "^(2x1+4x2))\n",
        "với xi ∈ R"
      ],
      "metadata": {
        "id": "euEXubGU8Wf4"
      }
    },
    {
      "cell_type": "code",
      "source": [
        "from math import sin,cos,tan,sqrt,pi,e\n",
        "x1 = float(input(\"x1 = \"))\n",
        "x2 = float(input(\"x2 = \"))\n",
        "\n",
        "# biểu thức toán học \n",
        "s = 2*x1 + 4*x2 \n",
        "F = ((x1 + x2)/(x1 - x2)) > (1/(1 + e**s))\n",
        "\n",
        "print(\"giá trị của bt G là : \",F)"
      ],
      "metadata": {
        "colab": {
          "base_uri": "https://localhost:8080/"
        },
        "id": "DmJ423cR9NLI",
        "outputId": "e9dc5ed1-bca6-4338-fae8-74a69f8fc503"
      },
      "execution_count": null,
      "outputs": [
        {
          "output_type": "stream",
          "name": "stdout",
          "text": [
            "x1 = 1\n",
            "x2 = 2\n",
            "giá trị của bt G là :  False\n"
          ]
        }
      ]
    },
    {
      "cell_type": "markdown",
      "source": [
        "Bài 5: Xét phương trình bậc 2: ax2 + bx + c = 0 với các hệ số a, b, c ∈ R được nhập vào từ bàn phím, hãy tính biểu thức:\n",
        "\n",
        "∆ = b^2 − 4ac\n"
      ],
      "metadata": {
        "id": "1y6WShdZM-Ae"
      }
    },
    {
      "cell_type": "code",
      "source": [
        "a = float(input(\"a = \"))\n",
        "b = float(input(\"b = \"))\n",
        "c = float(input(\"c = \"))\n",
        "# biểu thức toán học\n",
        "delta = b*b - 4*a*c\n",
        "\n",
        "print(\"giá trị của bt delta là : \",delta)\n"
      ],
      "metadata": {
        "colab": {
          "base_uri": "https://localhost:8080/"
        },
        "id": "6cbW89lcNUSW",
        "outputId": "ec2757f6-e6ca-44c9-dfdb-dc48e6f7f95e"
      },
      "execution_count": null,
      "outputs": [
        {
          "output_type": "stream",
          "name": "stdout",
          "text": [
            "a = 2\n",
            "b = 3\n",
            "c = 4\n",
            "giá trị của bt delta là :  -23.0\n"
          ]
        }
      ]
    },
    {
      "cell_type": "markdown",
      "source": [
        "Bài 6: Hãy tính giá trị các biểu thức sau với a, b và α nhập vào từ bàn phím:\n",
        "- sin(a + b) > sin(a) cos(b) + sin(b) cos(a)\n",
        "- cos(α) − sin(α) ≤ √2cos (α +\n",
        "π/\n",
        "4\n",
        ")\n",
        "\n",
        "- tan(2α) ≠\n",
        "2tan(α)\n",
        "1− tan(α)2"
      ],
      "metadata": {
        "id": "OsDJ2Nw3On7R"
      }
    },
    {
      "cell_type": "code",
      "source": [
        "\n",
        "from math import sin,cos,tan,sqrt,pi,e\n",
        "a = float(input(\"a = \"))\n",
        "b = float(input(\"b = \"))\n",
        "# biểu thức\n",
        "C = sin(a + b) > (sin(a)*cos(b) + sin(b)*cos(a))\n",
        "\n",
        "D = (cos(a) - sin(a)) <= (sqrt(2)*cos(a + pi/4))\n",
        "\n",
        "E = tan(2*a) != ((2*tan(a))/(1-tan(a)**2))\n",
        "\n",
        "print(\"giá trị của bt C là : \",C)\n",
        "print(\"giá trị của bt D là : \",D)\n",
        "print(\"giá trị của bt E là : \",E)\n"
      ],
      "metadata": {
        "colab": {
          "base_uri": "https://localhost:8080/"
        },
        "id": "IlLCmNhyO1lJ",
        "outputId": "72159598-04fb-4dd3-a0c1-9a38fe9cec16"
      },
      "execution_count": null,
      "outputs": [
        {
          "output_type": "stream",
          "name": "stdout",
          "text": [
            "a = 1\n",
            "b = 2\n",
            "giá trị của bt C là :  False\n",
            "giá trị của bt D là :  False\n",
            "giá trị của bt E là :  False\n"
          ]
        }
      ]
    },
    {
      "cell_type": "markdown",
      "source": [
        "Bài 7: Tọa độ của 1 điểm trong không gian 2 chiều được biểu diễn qua 2 giá trị hoành độ - x – và\n",
        "tung độ - y. Hãy viết chương trình tính khoảng cách giữa 2 điểm A và B có tọa độ lần lượt là\n",
        "(xA, yA\n",
        ") và (xB, yB) biết công thức tính khoảng cách giữa 2 điểm là:\n",
        "\n",
        "√((xA − xB)^2 + (yA − yB)^2)"
      ],
      "metadata": {
        "id": "G_ddo_djXVr1"
      }
    },
    {
      "cell_type": "code",
      "source": [
        "# tọa độ của điểm A(xa ;ya) , B(xb ;yb)\n",
        "print(\"mời bạn nhập tọa độ của x ,y:\")\n",
        "xa = float(input(\"xa = \"))\n",
        "ya = float(input(\"ya = \"))\n",
        "xb = float(input(\"xb = \"))\n",
        "yb = float(input(\"yb = \"))\n",
        "\n",
        "print(\"tọa độ của điểm A(\",xa ,\";\",ya,\") , B(\",xb, \";\",yb,\")\")\n",
        "# tính khoảng cách giữa hai điểm A và B\n",
        "AB =sqrt( (xa -xb)**2 + (ya-yb)**2)\n",
        "\n",
        "print(\"khoảng cách giữa hai điểm A và B là :\",AB)"
      ],
      "metadata": {
        "colab": {
          "base_uri": "https://localhost:8080/"
        },
        "id": "sIsOMaL7XCL1",
        "outputId": "0d0bdce1-3adf-40d5-8927-450b5e15fca9"
      },
      "execution_count": null,
      "outputs": [
        {
          "output_type": "stream",
          "name": "stdout",
          "text": [
            "mời bạn nhập tọa độ của x ,y:\n",
            "xa = 12\n",
            "ya = 12\n",
            "xb = 15\n",
            "yb = 15\n",
            "tọa độ của điểm A( 12.0 ; 12.0 ) , B( 15.0 ; 15.0 )\n",
            "khoảng cách giữa hai điểm A và B là : 4.242640687119285\n"
          ]
        }
      ]
    },
    {
      "cell_type": "markdown",
      "source": [
        "Bài 8: Tọa độ của 1 điểm trong không gian 3 chiều được biểu diễn qua 3 giá trị hoành độ - x – và\n",
        "tung độ - y – và cao độ - z. Hãy viết chương trình tính khoảng cách giữa 2 điểm A và B có tọa độ\n",
        "lần lượt là (xA, yA, zA) và (xB, yB, zB) biết công thức tính khoảng cách giữa 2 điểm là:\n",
        "\n",
        "√((xA − xB)^2 + (yA − yB)^2 + (zA − zB)^2)"
      ],
      "metadata": {
        "id": "XKh0XuIl3lJU"
      }
    },
    {
      "cell_type": "code",
      "source": [
        "# tọa độ của điểm A(Xa ;Ya ;za) , B(Xb ;Yb ;Zb)\n",
        "print(\"mời bạn nhập tọa độ của X ,Y:\")\n",
        "Xa = float(input(\"Xa = \"))\n",
        "Ya = float(input(\"Ya = \"))\n",
        "Za = float(input(\"Za = \"))\n",
        "\n",
        "Xb = float(input(\"Xb = \"))\n",
        "Yb = float(input(\"Yb = \"))\n",
        "Zb = float(input(\"Zb = \"))\n",
        "\n",
        "print(\"tọa độ của điểm A(\",Xa ,\";\",Ya,\";\",Za,\") , B(\",Xb, \";\",Yb,\";\",Za,\")\")\n",
        "# tính khoảng cách giữa hai điểm A và B\n",
        "AB =sqrt( (Xa -Xb)**2 + (Ya-Yb)**2 + (Za-Zb)**2 )\n",
        "\n",
        "print(\"khoảng cách giữa hai điểm A và B là :\",AB)"
      ],
      "metadata": {
        "colab": {
          "base_uri": "https://localhost:8080/"
        },
        "id": "XwV2CSQB377R",
        "outputId": "c14e2f93-b735-4b5d-8fbe-d1c8340eb0b5"
      },
      "execution_count": null,
      "outputs": [
        {
          "output_type": "stream",
          "name": "stdout",
          "text": [
            "mời bạn nhập tọa độ của X ,Y:\n",
            "Xa = 12\n",
            "Ya = 12\n",
            "Za = 12\n",
            "Xb = 15\n",
            "Yb = 15\n",
            "Zb = 15\n",
            "tọa độ của điểm A( 12.0 ; 12.0 ; 12.0 ) , B( 15.0 ; 15.0 ; 12.0 )\n",
            "khoảng cách giữa hai điểm A và B là : 5.196152422706632\n"
          ]
        }
      ]
    }
  ]
}