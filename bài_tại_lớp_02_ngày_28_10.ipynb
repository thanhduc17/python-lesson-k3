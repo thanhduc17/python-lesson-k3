{
  "nbformat": 4,
  "nbformat_minor": 0,
  "metadata": {
    "colab": {
      "provenance": [],
      "authorship_tag": "ABX9TyPhMVFC7b4t/4HI2fDdnWk2",
      "include_colab_link": true
    },
    "kernelspec": {
      "name": "python3",
      "display_name": "Python 3"
    },
    "language_info": {
      "name": "python"
    }
  },
  "cells": [
    {
      "cell_type": "markdown",
      "metadata": {
        "id": "view-in-github",
        "colab_type": "text"
      },
      "source": [
        "<a href=\"https://colab.research.google.com/github/thanhduc17/python-lesson-k3/blob/main/b%C3%A0i_t%E1%BA%A1i_l%E1%BB%9Bp_02_ng%C3%A0y_28_10.ipynb\" target=\"_parent\"><img src=\"https://colab.research.google.com/assets/colab-badge.svg\" alt=\"Open In Colab\"/></a>"
      ]
    },
    {
      "cell_type": "markdown",
      "source": [
        "Bài 1: Hãy vẽ lưu đồ thuật toán (bằng draw.io) và viết chương trình giải phương trình bậc 1: ax +\n",
        "b = 0 với a, b ∈ R. Nhập giá trị hệ số a, b từ bàn phím.\n"
      ],
      "metadata": {
        "id": "CMwMnbK4TrV8"
      }
    },
    {
      "cell_type": "code",
      "source": [
        "\n",
        "a = float(input(\"Nhập  a = \"))\n",
        "b = float(input(\"Nhập  b = \"))\n",
        "\n",
        "if a == 0:\n",
        "  if b == 0:\n",
        "    print(\"phương trình Vô số nghiệm\")\n",
        "  else:\n",
        "    print(\"phương trình Vô nghiệm\")\n",
        "else:\n",
        "  print(\"Phương trình có nghiệm x =\", -b / a)\n"
      ],
      "metadata": {
        "colab": {
          "base_uri": "https://localhost:8080/"
        },
        "id": "o639iIXJTnth",
        "outputId": "7e730251-933d-4d83-80bf-d878d0b0e348"
      },
      "execution_count": null,
      "outputs": [
        {
          "output_type": "stream",
          "name": "stdout",
          "text": [
            "Nhập  a = 0\n",
            "Nhập  b = 1\n",
            "phương trình Vô nghiệm\n"
          ]
        }
      ]
    },
    {
      "cell_type": "markdown",
      "source": [
        "Bài 2: Hãy vẽ lưu đồ thuật toán (bằng draw.io) và viết chương trình giải phương trình bậc 2: ax\n",
        "2 +\n",
        "\n",
        "bx + c = 0 với a, b, c ∈ R. Nhập giá trị các hệ số a, b và c từ bàn phím.\n"
      ],
      "metadata": {
        "id": "jrH7vhjsWf-p"
      }
    },
    {
      "cell_type": "code",
      "execution_count": null,
      "metadata": {
        "colab": {
          "base_uri": "https://localhost:8080/"
        },
        "id": "M8Lbej7cNoS7",
        "outputId": "8acc7cf8-36d8-4e21-f55d-cb0d857f7b34"
      },
      "outputs": [
        {
          "output_type": "stream",
          "name": "stdout",
          "text": [
            "Nhập  a = 1\n",
            "Nhập  b = 2\n",
            "Nhập  c = 3\n",
            "Phương trình vô nghiệm!\n"
          ]
        }
      ],
      "source": [
        "from  math import sqrt,acos,cos,pi\n",
        " \n",
        "a = float(input(\"Nhập  a = \"))\n",
        "b = float(input(\"Nhập  b = \"))\n",
        "c = float(input(\"Nhập  c = \"))\n",
        "if (a == 0):\n",
        "  if (b == 0):\n",
        "      if(c == 0):\n",
        "        print(\"Phương trình vô số nghiệm!\")\n",
        "      else:\n",
        "        print(\"phương trình Vô nghiệm\")\n",
        "  else:\n",
        "      print(\"Phương trình có nghiệm x =\", -c / b)\n",
        "else:\n",
        "# tính delta\n",
        "  delta = b * b - 4 * a * c\n",
        "# tính nghiệm\n",
        "  if (delta > 0):\n",
        "    x1 = (-b + sqrt(delta)) / (2 * a)\n",
        "    x2 = (-b - sqrt(delta)) / (2 * a)\n",
        "    print (\"Phương trình có 2 nghiệm là:\\n x1 = \", x1, \" \\n x2 = \", x2)\n",
        "  else :\n",
        "    if(delta == 0):\n",
        "        x = -b / (2 * a)\n",
        "        print(\"Phương trình có nghiệm kép: x1 = x2 = \", x)\n",
        "    else:\n",
        "        print(\"Phương trình vô nghiệm!\")\n",
        " \n",
        "\n"
      ]
    },
    {
      "cell_type": "markdown",
      "source": [
        "Bài 3: Hãy vẽ lưu đồ thuật toán (bằng draw.io) và viết chương trình giải phương trình bậc 3: ax3 +bx\n",
        "2 + cx + d = 0 với a, b, c, d ∈ R. Nhập giá trị các hệ số a, b, c và d từ bàn phím. \n"
      ],
      "metadata": {
        "id": "APXhg5eZtuWS"
      }
    },
    {
      "cell_type": "code",
      "source": [
        "\n",
        "from  math import sqrt,acos,cos,pi\n",
        "a = float(input(\"Nhập  a = \"))\n",
        "b = float(input(\"Nhập  b = \"))\n",
        "c = float(input(\"Nhập  c = \"))\n",
        "d = float(input(\"Nhập  d = \"))\n",
        "if (a == 0):\n",
        "  if (b == 0):\n",
        "      if(c == 0):\n",
        "        if(d == 0):\n",
        "            print(\"Phương trình vô số nghiệm!\")\n",
        "        else:\n",
        "            print(\"phương trình Vô nghiệm\")\n",
        "      else:\n",
        "          print(\"Phương trình có nghiệm x =\", -c / b)\n",
        "  else:\n",
        "    # tính delta\n",
        "      delta = c * c - 4 * b * d\n",
        "    # tính nghiệm\n",
        "      if (delta > 0):\n",
        "        x1 = (-c + sqrt(delta)) / (2 * b)\n",
        "        x2 = (-c - sqrt(delta)) / (2 * b)\n",
        "        print (\"Phương trình có 2 nghiệm là:\\n x1 = \", x1, \" \\n x2 = \", x2)\n",
        "      else :\n",
        "        if(delta == 0):\n",
        "            x = -c / (2 * b)\n",
        "            print(\"Phương trình có nghiệm kép: x1 = x2 = \", x)\n",
        "        else:\n",
        "            print(\"Phương trình vô nghiệm!\")\n",
        "else:\n",
        "  delta1 = b **2 - 3 * a * c\n",
        "  if delta1 != 0 :\n",
        "      k = (9*a*b*c - 2*b**3 - 27*a**2*d)/(2*sqrt((abs(delta1)**3)))\n",
        "      print(k)\n",
        "  if delta1 > 0:\n",
        "      if abs(k) <= 1 :\n",
        "            cd = sqrt(delta1)\n",
        "            cs = acos(k)/3\n",
        "            x1 = (2*cd*cos(cs)-b)/(3*a)\n",
        "            x2 = (2*cd*cos(cs-(2*pi)/3)-b)/(3*a)\n",
        "            x3 = (2*cd*cos(cs+(2*pi)/3)-b)/(3*a)\n",
        "            print(\"nghiệm của pt là :\\n\",x1,x2,x3)\n",
        "      else:\n",
        "            x4 = ((sqrt(delta1)*abs(k))/(3*a*k))*(((abs(k)+(sqrt(k**2-1)))**(1/3)) + ((abs(k)-(sqrt(k**2-1))))**(1/3))-(b/(3*a))\n",
        "            print(\"phương trình có 1 nghiệm duy nhất \",x4)\n",
        "  else:\n",
        "        if delta1 == 0:\n",
        "              bd = (b**3) - (27*a**2*d)\n",
        "              print(bd)\n",
        "              if bd == 0 :\n",
        "                x14 = -b/(3*a)\n",
        "                print(\"phương trình có  nghiệm bội\",x14)\n",
        "              else:\n",
        "                ba =((-1)*((-bd)**(1/3)))\n",
        "                x12 = (-b + ba)/(3*a)\n",
        "                print(\"phương trình có 1 nghiệm\",str(x12))\n",
        "        else:\n",
        "            q = (k+sqrt(k**2+1))**(1/3)\n",
        "            q1 =((-1)*((-(k-sqrt(k**2+1)))**(1/3)))\n",
        "            x12 = (sqrt(abs(delta1))/(3*a))*((q) + (q1))-(b/(3*a))\n",
        "            print(\"phương trình có 1 nghiệm duy nhất1 \",x12)  \n",
        "\n",
        "\n",
        "    \n",
        "\n",
        "\n",
        "      "
      ],
      "metadata": {
        "colab": {
          "base_uri": "https://localhost:8080/"
        },
        "id": "orwUSYH9oN6i",
        "outputId": "cced80cb-681b-46f7-a226-21b7514691ee"
      },
      "execution_count": null,
      "outputs": [
        {
          "output_type": "stream",
          "name": "stdout",
          "text": [
            "Nhập  a = 1\n",
            "Nhập  b = -2\n",
            "Nhập  c = 0.2\n",
            "Nhập  d = 1\n",
            "-1.1644061338795515\n",
            "phương trình có 1 nghiệm duy nhất  -0.5845367027020331\n"
          ]
        }
      ]
    },
    {
      "cell_type": "markdown",
      "source": [
        "Bài 4: Viết chương trình nhập username và password từ bàn phím. \n",
        "Nếu username = ‘cntt’ và\n",
        "password = ‘trituenhantao’ \n",
        "thì thông báo đăng nhập thành công."
      ],
      "metadata": {
        "id": "VznhKKnit4jj"
      }
    },
    {
      "cell_type": "code",
      "source": [
        "import getpass\n",
        " \n",
        "a = input(\"nhập vào username :\")\n",
        "c =getpass.getpass (\"nhập vào passwrd :\")\n",
        "if (a == \"cntt\") and (b == \"trituenhantao\"):\n",
        "  print(\"đăng nhập thành công\")\n",
        "else:\n",
        "  print(\"đăng nhập không thành công\")\n"
      ],
      "metadata": {
        "id": "AFt8LLL0keiN",
        "colab": {
          "base_uri": "https://localhost:8080/"
        },
        "outputId": "b171ac75-13cf-4eac-b925-8a19d9da81ce"
      },
      "execution_count": 6,
      "outputs": [
        {
          "output_type": "stream",
          "name": "stdout",
          "text": [
            "nhập vào username :cntt\n",
            "nhập vào passwrd :··········\n",
            "đăng nhập không thành công\n"
          ]
        }
      ]
    }
  ]
}