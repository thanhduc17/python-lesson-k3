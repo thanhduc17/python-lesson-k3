{
  "nbformat": 4,
  "nbformat_minor": 0,
  "metadata": {
    "colab": {
      "provenance": [],
      "authorship_tag": "ABX9TyM1f0Nvx5QRk63tL155VzzT",
      "include_colab_link": true
    },
    "kernelspec": {
      "name": "python3",
      "display_name": "Python 3"
    },
    "language_info": {
      "name": "python"
    }
  },
  "cells": [
    {
      "cell_type": "markdown",
      "metadata": {
        "id": "view-in-github",
        "colab_type": "text"
      },
      "source": [
        "<a href=\"https://colab.research.google.com/github/thanhduc17/python-lesson-k3/blob/main/bt_tuple.ipynb\" target=\"_parent\"><img src=\"https://colab.research.google.com/assets/colab-badge.svg\" alt=\"Open In Colab\"/></a>"
      ]
    },
    {
      "cell_type": "code",
      "source": [
        "t = (12, 45, -1, -0.56, \"abc\", True)\n",
        "\n",
        "\n",
        "# Xuất giá trị của x ra màn hình\n",
        "print (\" t = \", t)\n",
        "\n",
        "# In ra màn hình giá trị của phần tử cuối cùng và phần tử đầu tiên của x\n",
        "print (\" Phần tử đầu tiên của t la: \", t[0])\n",
        "print (\" Phần tử cuối cùng của t la: \", t[-1])\n",
        "\n",
        "\n",
        "# In ra màn hình giá trị của phần tử đầu tiên đến phần tử thứ 5 của x\n",
        "print (\" Phần tử đầu tiên đến phần tử thứ 5 của t là: \", t[:5])\n",
        "\n",
        "# In ra màn hình giá trị của phần từ thứ 3 đến cuối cùng của x\n",
        "print (\" phần tử thứ 3 đến phần tử cuối cùng của t la: \", t[2:])\n",
        "listT = list(t)\n",
        "print(\"list(t) =\",listT)"
      ],
      "metadata": {
        "colab": {
          "base_uri": "https://localhost:8080/"
        },
        "id": "4Q8nmn0UjE9Y",
        "outputId": "8f3cc1c2-d40d-4890-ea94-f1cffc337c1a"
      },
      "execution_count": null,
      "outputs": [
        {
          "output_type": "stream",
          "name": "stdout",
          "text": [
            " t =  (12, 45, -1, -0.56, 'abc', True)\n",
            " Phần tử đầu tiên của t la:  12\n",
            " Phần tử cuối cùng của t la:  True\n",
            " Phần tử đầu tiên đến phần tử thứ 5 của t là:  (12, 45, -1, -0.56, 'abc')\n",
            " phần tử thứ 3 đến phần tử cuối cùng của t la:  (-1, -0.56, 'abc', True)\n",
            "list(t) = [12, 45, -1, -0.56, 'abc', True]\n"
          ]
        }
      ]
    }
  ]
}