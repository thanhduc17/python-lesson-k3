{
  "nbformat": 4,
  "nbformat_minor": 0,
  "metadata": {
    "colab": {
      "provenance": [],
      "authorship_tag": "ABX9TyOWRl91oESX2wT7LxlzXGZM",
      "include_colab_link": true
    },
    "kernelspec": {
      "name": "python3",
      "display_name": "Python 3"
    },
    "language_info": {
      "name": "python"
    }
  },
  "cells": [
    {
      "cell_type": "markdown",
      "metadata": {
        "id": "view-in-github",
        "colab_type": "text"
      },
      "source": [
        "<a href=\"https://colab.research.google.com/github/thanhduc17/python-lesson-k3/blob/main/bt_Numpy_02.ipynb\" target=\"_parent\"><img src=\"https://colab.research.google.com/assets/colab-badge.svg\" alt=\"Open In Colab\"/></a>"
      ]
    },
    {
      "cell_type": "code",
      "source": [
        "import numpy as np\n",
        "from numpy import cos,log10,sin,tan,sqrt,around"
      ],
      "metadata": {
        "id": "2NNldIaq-xfV"
      },
      "execution_count": null,
      "outputs": []
    },
    {
      "cell_type": "code",
      "source": [
        "def tao_1_vector_co_15_phan_tu_int():\n",
        "  a = np.random.randint(1,10,size=10)\n",
        "  return a\n"
      ],
      "metadata": {
        "id": "LGkLCLXUujEu"
      },
      "execution_count": null,
      "outputs": []
    },
    {
      "cell_type": "code",
      "source": [
        "\n",
        "def tinh_sin_cos_cb2_log(x):\n",
        "  w =sin(x)\n",
        "  d = cos (x)\n",
        "  p = sqrt(x)\n",
        "  e = log10(x)\n",
        "  print(w)\n",
        "  print(d)\n",
        "  print(p)\n",
        "  print(e)\n",
        "\n"
      ],
      "metadata": {
        "id": "070CGR9EOMwq"
      },
      "execution_count": null,
      "outputs": []
    },
    {
      "cell_type": "code",
      "source": [
        "def tinh_lai_va_lam_tron_cau_2(x):\n",
        "  w = sin(x)\n",
        "  d = cos (x)\n",
        "  p = sqrt(x)\n",
        "  e = log10(x)\n",
        "  print(np.around(w,2))\n",
        "  print(np.around(d,2))\n",
        "  print(np.around(p,2))\n",
        "  print(np.around(e,2))\n",
        "\n"
      ],
      "metadata": {
        "id": "vMLHF871Mlbk"
      },
      "execution_count": null,
      "outputs": []
    },
    {
      "cell_type": "code",
      "source": [
        "def main():\n",
        "  x = tao_1_vector_co_15_phan_tu_int()\n",
        "  print(x)\n",
        "  tinh_sin_cos_cb2_log(x)\n",
        "  tinh_lai_va_lam_tron_cau_2(x)\n",
        "if __name__ == \"__main__\":\n",
        "  main()\n"
      ],
      "metadata": {
        "colab": {
          "base_uri": "https://localhost:8080/"
        },
        "id": "KErC_6vozStr",
        "outputId": "23862915-75ea-4169-8b72-ca35f4a87ce4"
      },
      "execution_count": null,
      "outputs": [
        {
          "output_type": "stream",
          "name": "stdout",
          "text": [
            "[1 8 2 1 4 3 4 7 9 4]\n",
            "[ 0.84147098  0.98935825  0.90929743  0.84147098 -0.7568025   0.14112001\n",
            " -0.7568025   0.6569866   0.41211849 -0.7568025 ]\n",
            "[ 0.54030231 -0.14550003 -0.41614684  0.54030231 -0.65364362 -0.9899925\n",
            " -0.65364362  0.75390225 -0.91113026 -0.65364362]\n",
            "[1.         2.82842712 1.41421356 1.         2.         1.73205081\n",
            " 2.         2.64575131 3.         2.        ]\n",
            "[0.         0.90308999 0.30103    0.         0.60205999 0.47712125\n",
            " 0.60205999 0.84509804 0.95424251 0.60205999]\n",
            "[ 0.84  0.99  0.91  0.84 -0.76  0.14 -0.76  0.66  0.41 -0.76]\n",
            "[ 0.54 -0.15 -0.42  0.54 -0.65 -0.99 -0.65  0.75 -0.91 -0.65]\n",
            "[1.   2.83 1.41 1.   2.   1.73 2.   2.65 3.   2.  ]\n",
            "[0.   0.9  0.3  0.   0.6  0.48 0.6  0.85 0.95 0.6 ]\n"
          ]
        }
      ]
    },
    {
      "cell_type": "code",
      "source": [
        "import numpy as np \n",
        "import random \n",
        "from numpy import sin,cos,log,sqrt,tan\n",
        "def ma_tran():\n",
        "  A = np.random.randint(low=5, high=10,size=15).reshape((3,5))\n",
        "  print(\"ma trận A :\")\n",
        "  return A\n",
        "def cau3(x):\n",
        "  \n",
        "  a = np.around(np.sin(x),3)\n",
        "  b = np.around(np.cos(x),3)\n",
        "  c = np.around(np.tan(x),3)\n",
        "  d = np.around(np.sqrt(x),3)\n",
        "  e = np.around(np.log10(x),3)\n",
        "  print(\"sin(A):\\n\",a)\n",
        "  print(\"cos(A):\\n\",b)\n",
        "  print(\"tan(A):\\n\",c)\n",
        "  print(\"căn bậc hai của A :\\n\",d)\n",
        "  print(\"log(A):\\n\",e)"
      ],
      "metadata": {
        "id": "iZmxVgqlfej4"
      },
      "execution_count": null,
      "outputs": []
    },
    {
      "cell_type": "code",
      "source": [
        "def main():\n",
        "  A= ma_tran()\n",
        "  x = np.array(A)\n",
        "  print(x)\n",
        "  cau3(x)\n",
        "if __name__ == \"__main__\":\n",
        "  main()"
      ],
      "metadata": {
        "id": "PiTvRrdifeio",
        "colab": {
          "base_uri": "https://localhost:8080/"
        },
        "outputId": "e449c6b2-08b1-4558-9385-409dc1b35165"
      },
      "execution_count": null,
      "outputs": [
        {
          "output_type": "stream",
          "name": "stdout",
          "text": [
            "ma trận A :\n",
            "[[7 5 8 5 5]\n",
            " [8 5 7 7 8]\n",
            " [5 6 6 6 7]]\n",
            "sin(A):\n",
            "[[ 0.657 -0.959  0.989 -0.959 -0.959]\n",
            " [ 0.989 -0.959  0.657  0.657  0.989]\n",
            " [-0.959 -0.279 -0.279 -0.279  0.657]]\n",
            "cos(A):\n",
            "[[ 0.754  0.284 -0.146  0.284  0.284]\n",
            " [-0.146  0.284  0.754  0.754 -0.146]\n",
            " [ 0.284  0.96   0.96   0.96   0.754]]\n",
            "tan(A):\n",
            "[[ 0.871 -3.381 -6.8   -3.381 -3.381]\n",
            " [-6.8   -3.381  0.871  0.871 -6.8  ]\n",
            " [-3.381 -0.291 -0.291 -0.291  0.871]]\n",
            "căn bậc hai của A :\n",
            "[[2.646 2.236 2.828 2.236 2.236]\n",
            " [2.828 2.236 2.646 2.646 2.828]\n",
            " [2.236 2.449 2.449 2.449 2.646]]\n",
            "log(A)\n",
            "[[0.845 0.699 0.903 0.699 0.699]\n",
            " [0.903 0.699 0.845 0.845 0.903]\n",
            " [0.699 0.778 0.778 0.778 0.845]]\n"
          ]
        }
      ]
    }
  ]
}