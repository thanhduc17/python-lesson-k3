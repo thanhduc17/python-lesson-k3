{
  "nbformat": 4,
  "nbformat_minor": 0,
  "metadata": {
    "colab": {
      "provenance": [],
      "authorship_tag": "ABX9TyMZ3NZMHSzYcud6aWjVSq2p",
      "include_colab_link": true
    },
    "kernelspec": {
      "name": "python3",
      "display_name": "Python 3"
    },
    "language_info": {
      "name": "python"
    }
  },
  "cells": [
    {
      "cell_type": "markdown",
      "metadata": {
        "id": "view-in-github",
        "colab_type": "text"
      },
      "source": [
        "<a href=\"https://colab.research.google.com/github/thanhduc17/python-lesson-k3/blob/main/sx_.ipynb\" target=\"_parent\"><img src=\"https://colab.research.google.com/assets/colab-badge.svg\" alt=\"Open In Colab\"/></a>"
      ]
    },
    {
      "cell_type": "code",
      "execution_count": null,
      "metadata": {
        "id": "UVGsTq-KdT8T"
      },
      "outputs": [],
      "source": [
        "import random"
      ]
    },
    {
      "cell_type": "code",
      "source": [
        "def nhap_so_nguyen_n():\n",
        "  n = abs(int(input(' n = ')))\n",
        "  return n\n"
      ],
      "metadata": {
        "id": "r7zJnzpUd0W3"
      },
      "execution_count": null,
      "outputs": []
    },
    {
      "cell_type": "code",
      "source": [
        "def sinh_1_list_ngau_nhien(n):\n",
        "  a = float(input())\n",
        "  b = float(input())\n",
        "  x = [(b - a)*random.random() + a for i in range(n)]\n",
        "  return x"
      ],
      "metadata": {
        "id": "s0fFiowzd-ZH"
      },
      "execution_count": null,
      "outputs": []
    },
    {
      "cell_type": "code",
      "source": [
        "def sinh_vector_so_nguyen(n):\n",
        "  x = [random.randint(-5, 5) for i in range(n)]\n",
        "  return x"
      ],
      "metadata": {
        "id": "7YRpnd4DecpX"
      },
      "execution_count": null,
      "outputs": []
    },
    {
      "cell_type": "code",
      "source": [
        "def sap_xep_tang_dan(v):\n",
        "  n = len(v)\n",
        "  for i in range(0, n - 1):\n",
        "    for j in range(i+1, n):\n",
        "      if v[i] > v[j]:\n",
        "        v[i], v[j] = v[j], v[i]\n",
        "  return v"
      ],
      "metadata": {
        "id": "xhj5kqHsftW1"
      },
      "execution_count": null,
      "outputs": []
    },
    {
      "cell_type": "code",
      "source": [
        "def sap_xep_tang_dan2(v):\n",
        "  n = len(v)\n",
        "  v1 = v.copy()\n",
        "  for i in range(0, n - 1):\n",
        "    for j in range(i+1, n):\n",
        "      if v1[i] > v1[j]:\n",
        "        v1[i], v1[j] = v1[j], v1[i]\n",
        "  return v1"
      ],
      "metadata": {
        "id": "QBN5Nzm3goPN"
      },
      "execution_count": null,
      "outputs": []
    },
    {
      "cell_type": "code",
      "source": [
        "def sap_xep_giam_dan(v):\n",
        "  n = len(v)\n",
        "  v1 = v.copy()\n",
        "  for i in range(0, n - 1):\n",
        "    for j in range(i+1, n):\n",
        "      if v1[i] < v1[j]:\n",
        "        v1[i], v1[j] = v1[j], v1[i]\n",
        "  return v1"
      ],
      "metadata": {
        "id": "RUWPU8ythGW0"
      },
      "execution_count": null,
      "outputs": []
    },
    {
      "cell_type": "code",
      "source": [
        "def sap_xep(v, flag):\n",
        "  if flag == True:\n",
        "    return sap_xep_tang_dan2(v)\n",
        "  else:\n",
        "    return sap_xep_giam_dan(v)\n"
      ],
      "metadata": {
        "id": "2SAQ7slLhe5O"
      },
      "execution_count": null,
      "outputs": []
    },
    {
      "cell_type": "code",
      "source": [
        "def main():\n",
        "  n=nhap_so_nguyen_n()\n",
        "  l = sinh_1_list_ngau_nhien(n)\n",
        "  v = sinh_vector_so_nguyen(n)\n",
        "  t = sap_xep_tang_dan(v)\n",
        "  t1 = sap_xep_tang_dan2(v)\n",
        "  g = sap_xep_giam_dan(v)\n",
        "  sx = sap_xep(v,True)\n",
        "  sx1 = sap_xep(v,False)\n",
        "  print(\"vectơ v =\",v)\n",
        "  print(\"tăng dần 1,2\\n\",t,\"\\n---\",t1)\n",
        "  print(\"giảm dần 1,2\\n\",g)\n",
        "  print(\"sắp xếp true,false\\n\",sx,\"\\n\",sx1)\n",
        "if __name__ == \"__main__\":\n",
        "  main()"
      ],
      "metadata": {
        "colab": {
          "base_uri": "https://localhost:8080/"
        },
        "id": "rck3y3N2GQyL",
        "outputId": "57242262-e8f3-4734-d42c-dd6c5b2105e6"
      },
      "execution_count": null,
      "outputs": [
        {
          "output_type": "stream",
          "name": "stdout",
          "text": [
            " n = 5\n",
            "1\n",
            "5\n",
            "vectơ v = [-5, -4, 1, 4, 4]\n",
            "tăng dần 1,2\n",
            " [-5, -4, 1, 4, 4] \n",
            "--- [-5, -4, 1, 4, 4]\n",
            "giảm dần 1,2\n",
            " [4, 4, 1, -4, -5]\n",
            "sắp xếp true,false\n",
            " [-5, -4, 1, 4, 4] \n",
            " [4, 4, 1, -4, -5]\n"
          ]
        }
      ]
    }
  ]
}